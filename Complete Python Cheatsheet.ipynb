{
 "cells": [
  {
   "cell_type": "markdown",
   "id": "31ce900b",
   "metadata": {},
   "source": [
    "# Python: From Scratch"
   ]
  },
  {
   "cell_type": "markdown",
   "id": "74e0a6ec",
   "metadata": {},
   "source": [
    "### Why use Python?"
   ]
  },
  {
   "cell_type": "markdown",
   "id": "b903f187",
   "metadata": {},
   "source": [
    "- Quality of software\n",
    "- Productivity of developers\n",
    "- Portability\n",
    "- Supporting libraries\n",
    "- Fun to use\n",
    "\n",
    "Python supports both scripting and OOPs."
   ]
  },
  {
   "cell_type": "markdown",
   "id": "2606e8bc",
   "metadata": {},
   "source": [
    "NOTE: \n",
    "- Use tab to view all the pre built functions of an object after typing a '.'\n",
    "- Use shift+tab to view the definition of a pre-built function or an object"
   ]
  },
  {
   "cell_type": "code",
   "execution_count": 1,
   "id": "8cb8c152",
   "metadata": {},
   "outputs": [
    {
     "data": {
      "text/plain": [
       "10"
      ]
     },
     "execution_count": 1,
     "metadata": {},
     "output_type": "execute_result"
    }
   ],
   "source": [
    "a = 10\n",
    "a"
   ]
  },
  {
   "cell_type": "code",
   "execution_count": 2,
   "id": "2be9b05c",
   "metadata": {},
   "outputs": [],
   "source": [
    "# Data types\n",
    "\n",
    "a = 12\n",
    "b = \"Ansh Python notebook\"\n",
    "c = True\n",
    "d = 1.231\n",
    "e = 2 + 5j"
   ]
  },
  {
   "cell_type": "code",
   "execution_count": 3,
   "id": "ca75396d",
   "metadata": {},
   "outputs": [
    {
     "name": "stdout",
     "output_type": "stream",
     "text": [
      "<class 'int'> <class 'str'> <class 'bool'> <class 'float'> <class 'complex'>\n"
     ]
    }
   ],
   "source": [
    "print(type(a), type(b), type(c), type(d), type(e))"
   ]
  },
  {
   "cell_type": "code",
   "execution_count": 4,
   "id": "fea40e20",
   "metadata": {},
   "outputs": [
    {
     "name": "stdout",
     "output_type": "stream",
     "text": [
      "Enter an integer 129\n",
      "129\n"
     ]
    }
   ],
   "source": [
    "# Input a variable\n",
    "\n",
    "a = int(input(\"Enter an integer \"))\n",
    "print(a)"
   ]
  },
  {
   "cell_type": "code",
   "execution_count": 5,
   "id": "f79474fe",
   "metadata": {},
   "outputs": [
    {
     "name": "stdout",
     "output_type": "stream",
     "text": [
      "2 0 1 0\n"
     ]
    }
   ],
   "source": [
    "# Boolean Operations\n",
    "\n",
    "print(True+True, True-True, False+True, False-False)"
   ]
  },
  {
   "cell_type": "code",
   "execution_count": 6,
   "id": "de983453",
   "metadata": {},
   "outputs": [],
   "source": [
    "# print(True/False) \n",
    "# = 1/0"
   ]
  },
  {
   "cell_type": "code",
   "execution_count": 7,
   "id": "5be10702",
   "metadata": {},
   "outputs": [
    {
     "name": "stdout",
     "output_type": "stream",
     "text": [
      "0.0\n"
     ]
    }
   ],
   "source": [
    "print(False/True)"
   ]
  },
  {
   "cell_type": "code",
   "execution_count": 9,
   "id": "6701e031",
   "metadata": {},
   "outputs": [
    {
     "name": "stdout",
     "output_type": "stream",
     "text": [
      "(2+5j) 2.0 5.0 (2-5j)\n"
     ]
    }
   ],
   "source": [
    "# Complex Number\n",
    "\n",
    "print(e, e.real, e.imag, e.conjugate())"
   ]
  },
  {
   "cell_type": "code",
   "execution_count": 10,
   "id": "2455835d",
   "metadata": {},
   "outputs": [
    {
     "data": {
      "text/plain": [
       "list"
      ]
     },
     "execution_count": 10,
     "metadata": {},
     "output_type": "execute_result"
    }
   ],
   "source": [
    "# List\n",
    "\n",
    "l = [3, 4, 5 ,\"canyo\", True, 5+4j]\n",
    "type(l)"
   ]
  },
  {
   "cell_type": "code",
   "execution_count": 11,
   "id": "979164f3",
   "metadata": {},
   "outputs": [
    {
     "name": "stdout",
     "output_type": "stream",
     "text": [
      "3 True (5+4j)\n"
     ]
    }
   ],
   "source": [
    "print(l[0], l[4], l[5])"
   ]
  },
  {
   "cell_type": "code",
   "execution_count": 12,
   "id": "71056670",
   "metadata": {},
   "outputs": [
    {
     "data": {
      "text/plain": [
       "tuple"
      ]
     },
     "execution_count": 12,
     "metadata": {},
     "output_type": "execute_result"
    }
   ],
   "source": [
    "# Tuple\n",
    "\n",
    "t = (3, 4, 5, \"sadasd\", True)\n",
    "type(t)"
   ]
  },
  {
   "cell_type": "markdown",
   "id": "152fbac3",
   "metadata": {},
   "source": [
    "- Tuples are immutable whereas lists are mutable."
   ]
  },
  {
   "cell_type": "code",
   "execution_count": 13,
   "id": "c9d86dae",
   "metadata": {},
   "outputs": [
    {
     "data": {
      "text/plain": [
       "dict"
      ]
     },
     "execution_count": 13,
     "metadata": {},
     "output_type": "execute_result"
    }
   ],
   "source": [
    "# Dictionary\n",
    "\n",
    "d = {1: \"Ansh\", 2: \"Ankul\"}\n",
    "type(d)"
   ]
  },
  {
   "cell_type": "code",
   "execution_count": 14,
   "id": "3ad3cd6c",
   "metadata": {},
   "outputs": [
    {
     "data": {
      "text/plain": [
       "set"
      ]
     },
     "execution_count": 14,
     "metadata": {},
     "output_type": "execute_result"
    }
   ],
   "source": [
    "# Set\n",
    "\n",
    "s = {1, 2, 3, 'a'}\n",
    "type(s)"
   ]
  },
  {
   "cell_type": "markdown",
   "id": "2f982fc7",
   "metadata": {},
   "source": [
    "- Unlike dictionary, Sets don't have key value pair."
   ]
  },
  {
   "cell_type": "markdown",
   "id": "08b6e193",
   "metadata": {},
   "source": [
    "## Handling Strings"
   ]
  },
  {
   "cell_type": "markdown",
   "id": "a4e8280f",
   "metadata": {},
   "source": [
    "- Strings are immutable."
   ]
  },
  {
   "cell_type": "code",
   "execution_count": 15,
   "id": "9bcc52c8",
   "metadata": {},
   "outputs": [
    {
     "data": {
      "text/plain": [
       "str"
      ]
     },
     "execution_count": 15,
     "metadata": {},
     "output_type": "execute_result"
    }
   ],
   "source": [
    "s = \"AnshAnkul\"\n",
    "type(s)"
   ]
  },
  {
   "cell_type": "markdown",
   "id": "83cc1f43",
   "metadata": {},
   "source": [
    "- In python, unlike most of the other languages, strings have positive as well as negative indices."
   ]
  },
  {
   "cell_type": "code",
   "execution_count": 16,
   "id": "1ae9bc91",
   "metadata": {},
   "outputs": [
    {
     "data": {
      "text/plain": [
       "9"
      ]
     },
     "execution_count": 16,
     "metadata": {},
     "output_type": "execute_result"
    }
   ],
   "source": [
    "len(s)"
   ]
  },
  {
   "cell_type": "code",
   "execution_count": 17,
   "id": "000fb30c",
   "metadata": {},
   "outputs": [],
   "source": [
    "# 0  1  2  3\n",
    "# A  n  s  h\n",
    "#-4 -3 -2 -1 "
   ]
  },
  {
   "cell_type": "code",
   "execution_count": 18,
   "id": "b7882c00",
   "metadata": {},
   "outputs": [
    {
     "name": "stdout",
     "output_type": "stream",
     "text": [
      "A s n\n"
     ]
    }
   ],
   "source": [
    "print(s[0], s[2], s[5])"
   ]
  },
  {
   "cell_type": "code",
   "execution_count": 19,
   "id": "0cc0914f",
   "metadata": {},
   "outputs": [
    {
     "name": "stdout",
     "output_type": "stream",
     "text": [
      "l u k\n"
     ]
    }
   ],
   "source": [
    "print(s[-1], s[-2], s[-3])"
   ]
  },
  {
   "cell_type": "code",
   "execution_count": 20,
   "id": "06cc49aa",
   "metadata": {},
   "outputs": [
    {
     "name": "stdout",
     "output_type": "stream",
     "text": [
      "Ansh's Notebook\n"
     ]
    }
   ],
   "source": [
    "# Storing Single quotes in string\n",
    "\n",
    "s1 = \"Ansh's Notebook\"\n",
    "print(s1)"
   ]
  },
  {
   "cell_type": "code",
   "execution_count": 21,
   "id": "cac2321f",
   "metadata": {},
   "outputs": [
    {
     "data": {
      "text/plain": [
       "\"Ansh'\""
      ]
     },
     "execution_count": 21,
     "metadata": {},
     "output_type": "execute_result"
    }
   ],
   "source": [
    "# Extracting a substring\n",
    "\n",
    "s1[0:5]"
   ]
  },
  {
   "cell_type": "code",
   "execution_count": 22,
   "id": "11bf811f",
   "metadata": {},
   "outputs": [
    {
     "data": {
      "text/plain": [
       "\"Ansh's Noteb\""
      ]
     },
     "execution_count": 22,
     "metadata": {},
     "output_type": "execute_result"
    }
   ],
   "source": [
    "s1[:-3]"
   ]
  },
  {
   "cell_type": "code",
   "execution_count": 23,
   "id": "9326b0c0",
   "metadata": {},
   "outputs": [
    {
     "data": {
      "text/plain": [
       "'tNshn'"
      ]
     },
     "execution_count": 23,
     "metadata": {},
     "output_type": "execute_result"
    }
   ],
   "source": [
    "s1[9:0:-2]"
   ]
  },
  {
   "cell_type": "markdown",
   "id": "ed212970",
   "metadata": {},
   "source": [
    "- Includes lower bound and excludes upper bound."
   ]
  },
  {
   "cell_type": "code",
   "execution_count": 24,
   "id": "917b574b",
   "metadata": {},
   "outputs": [
    {
     "name": "stdout",
     "output_type": "stream",
     "text": [
      "As' oeok || nhsNtbo\n"
     ]
    }
   ],
   "source": [
    "# Extracting substring with a jump\n",
    "\n",
    "print(s1[::2],\"||\" ,s1[1::2])\n"
   ]
  },
  {
   "cell_type": "markdown",
   "id": "c72ee25d",
   "metadata": {},
   "source": [
    "- By default, the jump is set as +1."
   ]
  },
  {
   "cell_type": "code",
   "execution_count": 25,
   "id": "5572016a",
   "metadata": {},
   "outputs": [
    {
     "data": {
      "text/plain": [
       "\"koobetoN s'hsnA\""
      ]
     },
     "execution_count": 25,
     "metadata": {},
     "output_type": "execute_result"
    }
   ],
   "source": [
    "# Reversing a string\n",
    "s1[::-1]"
   ]
  },
  {
   "cell_type": "code",
   "execution_count": 26,
   "id": "3be7fcae",
   "metadata": {},
   "outputs": [
    {
     "data": {
      "text/plain": [
       "''"
      ]
     },
     "execution_count": 26,
     "metadata": {},
     "output_type": "execute_result"
    }
   ],
   "source": [
    "# Clash of direction in string extraction\n",
    "s1[0:4:-1]"
   ]
  },
  {
   "cell_type": "code",
   "execution_count": 27,
   "id": "0422a24f",
   "metadata": {},
   "outputs": [
    {
     "data": {
      "text/plain": [
       "''"
      ]
     },
     "execution_count": 27,
     "metadata": {},
     "output_type": "execute_result"
    }
   ],
   "source": [
    "s1[-1:-5:1]"
   ]
  },
  {
   "cell_type": "code",
   "execution_count": 28,
   "id": "f383ba42",
   "metadata": {},
   "outputs": [
    {
     "data": {
      "text/plain": [
       "'AnshAnkul1'"
      ]
     },
     "execution_count": 28,
     "metadata": {},
     "output_type": "execute_result"
    }
   ],
   "source": [
    "# Type casting\n",
    "\n",
    "s+ str(1)"
   ]
  },
  {
   "cell_type": "code",
   "execution_count": 29,
   "id": "b0bb9910",
   "metadata": {},
   "outputs": [
    {
     "data": {
      "text/plain": [
       "'AnshAnkul1'"
      ]
     },
     "execution_count": 29,
     "metadata": {},
     "output_type": "execute_result"
    }
   ],
   "source": [
    "# Concatenation\n",
    "\n",
    "s+'1'"
   ]
  },
  {
   "cell_type": "code",
   "execution_count": 30,
   "id": "9d4f9be9",
   "metadata": {},
   "outputs": [
    {
     "data": {
      "text/plain": [
       "'AnshAnkulAnshAnkulAnshAnkul'"
      ]
     },
     "execution_count": 30,
     "metadata": {},
     "output_type": "execute_result"
    }
   ],
   "source": [
    "# Multiplying string with a scalar\n",
    "\n",
    "s*3"
   ]
  },
  {
   "cell_type": "markdown",
   "id": "398a1589",
   "metadata": {},
   "source": [
    "**String Functions**"
   ]
  },
  {
   "cell_type": "code",
   "execution_count": 31,
   "id": "13fa39da",
   "metadata": {},
   "outputs": [
    {
     "data": {
      "text/plain": [
       "2"
      ]
     },
     "execution_count": 31,
     "metadata": {},
     "output_type": "execute_result"
    }
   ],
   "source": [
    "# Counting a letter\n",
    "\n",
    "s.count('An')"
   ]
  },
  {
   "cell_type": "code",
   "execution_count": 32,
   "id": "b603cc37",
   "metadata": {},
   "outputs": [
    {
     "data": {
      "text/plain": [
       "2"
      ]
     },
     "execution_count": 32,
     "metadata": {},
     "output_type": "execute_result"
    }
   ],
   "source": [
    "s.find(\"s\")"
   ]
  },
  {
   "cell_type": "code",
   "execution_count": 33,
   "id": "230502e2",
   "metadata": {},
   "outputs": [
    {
     "data": {
      "text/plain": [
       "'AncanhAnkul'"
      ]
     },
     "execution_count": 33,
     "metadata": {},
     "output_type": "execute_result"
    }
   ],
   "source": [
    "s.replace(\"s\",\"can\")"
   ]
  },
  {
   "cell_type": "markdown",
   "id": "36cfc97a",
   "metadata": {},
   "source": [
    "- s.replace() creates a new string and reallocates the memory address of our string. Hence, keeping the immutability of strings intact."
   ]
  },
  {
   "cell_type": "code",
   "execution_count": 34,
   "id": "3c3bb938",
   "metadata": {},
   "outputs": [
    {
     "name": "stdout",
     "output_type": "stream",
     "text": [
      "anshankul is good.\n"
     ]
    }
   ],
   "source": [
    "a = \"ansh\"\n",
    "b = \"ankul\"\n",
    "print(\"{}{} is good.\".format(a,b))"
   ]
  },
  {
   "cell_type": "code",
   "execution_count": 35,
   "id": "9493f4ca",
   "metadata": {},
   "outputs": [
    {
     "data": {
      "text/plain": [
       "['A', 'shA', 'kul']"
      ]
     },
     "execution_count": 35,
     "metadata": {},
     "output_type": "execute_result"
    }
   ],
   "source": [
    "s.split(\"n\")"
   ]
  },
  {
   "cell_type": "markdown",
   "id": "89a79f70",
   "metadata": {},
   "source": [
    "- string.split() returns a list.\n",
    "- By default the delimiter is ' '(space). "
   ]
  },
  {
   "cell_type": "code",
   "execution_count": 36,
   "id": "ad6dcc6a",
   "metadata": {},
   "outputs": [
    {
     "data": {
      "text/plain": [
       "['AnshAnkul']"
      ]
     },
     "execution_count": 36,
     "metadata": {},
     "output_type": "execute_result"
    }
   ],
   "source": [
    "s.split()"
   ]
  },
  {
   "cell_type": "code",
   "execution_count": 37,
   "id": "337c20d0",
   "metadata": {},
   "outputs": [
    {
     "data": {
      "text/plain": [
       "['AnshAnkul']"
      ]
     },
     "execution_count": 37,
     "metadata": {},
     "output_type": "execute_result"
    }
   ],
   "source": [
    "s.split(' ')"
   ]
  },
  {
   "cell_type": "code",
   "execution_count": 38,
   "id": "2846eae7",
   "metadata": {},
   "outputs": [],
   "source": [
    "# Storing a Paragragh in a string\n",
    "\n",
    "s2 = \"\"\"Colossal Cave Adventure is a 1976 text-based ad\n",
    "venture game by Will Crowther, based on his own spelunking\n",
    "experience, and expanded in 1977 by Don Woods.\n",
    "In it, the player explores a vast cave system rumored to be \n",
    "filled with treasure and gold, by typing one- or two-word commands. \n",
    "These are interpreted by the game's natural language input system.\"\"\""
   ]
  },
  {
   "cell_type": "code",
   "execution_count": 39,
   "id": "8ec3425f",
   "metadata": {},
   "outputs": [
    {
     "data": {
      "text/plain": [
       "['Colossal',\n",
       " 'Cave',\n",
       " 'Adventure',\n",
       " 'is',\n",
       " 'a',\n",
       " '1976',\n",
       " 'text-based',\n",
       " 'ad',\n",
       " 'venture',\n",
       " 'game',\n",
       " 'by',\n",
       " 'Will',\n",
       " 'Crowther,',\n",
       " 'based',\n",
       " 'on',\n",
       " 'his',\n",
       " 'own',\n",
       " 'spelunking',\n",
       " 'experience,',\n",
       " 'and',\n",
       " 'expanded',\n",
       " 'in',\n",
       " '1977',\n",
       " 'by',\n",
       " 'Don',\n",
       " 'Woods.',\n",
       " 'In',\n",
       " 'it,',\n",
       " 'the',\n",
       " 'player',\n",
       " 'explores',\n",
       " 'a',\n",
       " 'vast',\n",
       " 'cave',\n",
       " 'system',\n",
       " 'rumored',\n",
       " 'to',\n",
       " 'be',\n",
       " 'filled',\n",
       " 'with',\n",
       " 'treasure',\n",
       " 'and',\n",
       " 'gold,',\n",
       " 'by',\n",
       " 'typing',\n",
       " 'one-',\n",
       " 'or',\n",
       " 'two-word',\n",
       " 'commands.',\n",
       " 'These',\n",
       " 'are',\n",
       " 'interpreted',\n",
       " 'by',\n",
       " 'the',\n",
       " \"game's\",\n",
       " 'natural',\n",
       " 'language',\n",
       " 'input',\n",
       " 'system.']"
      ]
     },
     "execution_count": 39,
     "metadata": {},
     "output_type": "execute_result"
    }
   ],
   "source": [
    "# Getting a list of all words\n",
    "s2.split()"
   ]
  },
  {
   "cell_type": "code",
   "execution_count": 40,
   "id": "3ac9b6b6",
   "metadata": {},
   "outputs": [
    {
     "data": {
      "text/plain": [
       "\"COLOSSAL CAVE ADVENTURE IS A 1976 TEXT-BASED AD\\nVENTURE GAME BY WILL CROWTHER, BASED ON HIS OWN SPELUNKING\\nEXPERIENCE, AND EXPANDED IN 1977 BY DON WOODS.\\nIN IT, THE PLAYER EXPLORES A VAST CAVE SYSTEM RUMORED TO BE \\nFILLED WITH TREASURE AND GOLD, BY TYPING ONE- OR TWO-WORD COMMANDS. \\nTHESE ARE INTERPRETED BY THE GAME'S NATURAL LANGUAGE INPUT SYSTEM.\""
      ]
     },
     "execution_count": 40,
     "metadata": {},
     "output_type": "execute_result"
    }
   ],
   "source": [
    "s2.upper()"
   ]
  },
  {
   "cell_type": "code",
   "execution_count": 41,
   "id": "c0324f0c",
   "metadata": {},
   "outputs": [
    {
     "data": {
      "text/plain": [
       "\"colossal cave adventure is a 1976 text-based ad\\nventure game by will crowther, based on his own spelunking\\nexperience, and expanded in 1977 by don woods.\\nin it, the player explores a vast cave system rumored to be \\nfilled with treasure and gold, by typing one- or two-word commands. \\nthese are interpreted by the game's natural language input system.\""
      ]
     },
     "execution_count": 41,
     "metadata": {},
     "output_type": "execute_result"
    }
   ],
   "source": [
    "s2.lower()"
   ]
  },
  {
   "cell_type": "code",
   "execution_count": 42,
   "id": "34a3690b",
   "metadata": {},
   "outputs": [],
   "source": [
    "s3 = \"Ansh is a very intelligent guy.\""
   ]
  },
  {
   "cell_type": "code",
   "execution_count": 43,
   "id": "0b0214f2",
   "metadata": {},
   "outputs": [
    {
     "data": {
      "text/plain": [
       "'Ansh Is A Very Intelligent Guy.'"
      ]
     },
     "execution_count": 43,
     "metadata": {},
     "output_type": "execute_result"
    }
   ],
   "source": [
    "s3.title()"
   ]
  },
  {
   "cell_type": "code",
   "execution_count": 44,
   "id": "2bd01e2c",
   "metadata": {},
   "outputs": [
    {
     "data": {
      "text/plain": [
       "'Ansh is a very intelligent guy.'"
      ]
     },
     "execution_count": 44,
     "metadata": {},
     "output_type": "execute_result"
    }
   ],
   "source": [
    "s3.capitalize()"
   ]
  },
  {
   "cell_type": "markdown",
   "id": "21c17718",
   "metadata": {},
   "source": [
    "- str.title() capitalizes first letter of every word whereas str.capitalize() capitalizes first letter of first word in the sentence."
   ]
  },
  {
   "cell_type": "code",
   "execution_count": 45,
   "id": "a8473f6b",
   "metadata": {},
   "outputs": [
    {
     "data": {
      "text/plain": [
       "'aNSHaNKUL'"
      ]
     },
     "execution_count": 45,
     "metadata": {},
     "output_type": "execute_result"
    }
   ],
   "source": [
    "s.swapcase()"
   ]
  },
  {
   "cell_type": "code",
   "execution_count": 46,
   "id": "56df3746",
   "metadata": {},
   "outputs": [
    {
     "data": {
      "text/plain": [
       "'luknAhsnA'"
      ]
     },
     "execution_count": 46,
     "metadata": {},
     "output_type": "execute_result"
    }
   ],
   "source": [
    "# Reversing using str.reversed()\n",
    "''.join(reversed(s))"
   ]
  },
  {
   "cell_type": "markdown",
   "id": "51513e19",
   "metadata": {},
   "source": [
    "- Reversed() returns an iterator object so we use .join() to display our string.\n",
    "- Join() on the other hand takes in a string as an argument and returns a string."
   ]
  },
  {
   "cell_type": "code",
   "execution_count": 47,
   "id": "1e9b45f2",
   "metadata": {},
   "outputs": [
    {
     "data": {
      "text/plain": [
       "'A#n#s#h#A#n#k#u#l'"
      ]
     },
     "execution_count": 47,
     "metadata": {},
     "output_type": "execute_result"
    }
   ],
   "source": [
    "\"#\".join(s)"
   ]
  },
  {
   "cell_type": "code",
   "execution_count": 48,
   "id": "b09289ef",
   "metadata": {},
   "outputs": [
    {
     "data": {
      "text/plain": [
       "'33333AnshAnkul333333'"
      ]
     },
     "execution_count": 48,
     "metadata": {},
     "output_type": "execute_result"
    }
   ],
   "source": [
    "s.center(20, \"3\")"
   ]
  },
  {
   "cell_type": "code",
   "execution_count": 49,
   "id": "731a4e0c",
   "metadata": {},
   "outputs": [
    {
     "data": {
      "text/plain": [
       "True"
      ]
     },
     "execution_count": 49,
     "metadata": {},
     "output_type": "execute_result"
    }
   ],
   "source": [
    "\"ansjdn\".isalpha()"
   ]
  },
  {
   "cell_type": "code",
   "execution_count": 50,
   "id": "c926fbac",
   "metadata": {},
   "outputs": [
    {
     "data": {
      "text/plain": [
       "True"
      ]
     },
     "execution_count": 50,
     "metadata": {},
     "output_type": "execute_result"
    }
   ],
   "source": [
    "\"1234\".isdigit()"
   ]
  },
  {
   "cell_type": "code",
   "execution_count": 51,
   "id": "6f89dc2e",
   "metadata": {},
   "outputs": [
    {
     "data": {
      "text/plain": [
       "True"
      ]
     },
     "execution_count": 51,
     "metadata": {},
     "output_type": "execute_result"
    }
   ],
   "source": [
    "\"Ansh123\".isalnum()\n",
    "# is alpha or digit?"
   ]
  },
  {
   "cell_type": "code",
   "execution_count": 52,
   "id": "68744cf2",
   "metadata": {},
   "outputs": [
    {
     "data": {
      "text/plain": [
       "True"
      ]
     },
     "execution_count": 52,
     "metadata": {},
     "output_type": "execute_result"
    }
   ],
   "source": [
    "\"Ansh\".isalnum()"
   ]
  },
  {
   "cell_type": "code",
   "execution_count": 53,
   "id": "82f9a9ca",
   "metadata": {},
   "outputs": [
    {
     "data": {
      "text/plain": [
       "False"
      ]
     },
     "execution_count": 53,
     "metadata": {},
     "output_type": "execute_result"
    }
   ],
   "source": [
    "s.isupper()\n",
    "# is the entire string in upper case?"
   ]
  },
  {
   "cell_type": "code",
   "execution_count": 54,
   "id": "07aba85b",
   "metadata": {},
   "outputs": [
    {
     "data": {
      "text/plain": [
       "False"
      ]
     },
     "execution_count": 54,
     "metadata": {},
     "output_type": "execute_result"
    }
   ],
   "source": [
    "s.islower()\n",
    "# is the entire string in lower case?"
   ]
  },
  {
   "cell_type": "code",
   "execution_count": 55,
   "id": "f922ba3b",
   "metadata": {},
   "outputs": [
    {
     "data": {
      "text/plain": [
       "True"
      ]
     },
     "execution_count": 55,
     "metadata": {},
     "output_type": "execute_result"
    }
   ],
   "source": [
    "\"ansh\".startswith('a')"
   ]
  },
  {
   "cell_type": "code",
   "execution_count": 56,
   "id": "b7dd8658",
   "metadata": {},
   "outputs": [
    {
     "data": {
      "text/plain": [
       "False"
      ]
     },
     "execution_count": 56,
     "metadata": {},
     "output_type": "execute_result"
    }
   ],
   "source": [
    "\"ansh\".endswith('s')"
   ]
  },
  {
   "cell_type": "code",
   "execution_count": 57,
   "id": "eddb6b54",
   "metadata": {},
   "outputs": [
    {
     "data": {
      "text/plain": [
       "True"
      ]
     },
     "execution_count": 57,
     "metadata": {},
     "output_type": "execute_result"
    }
   ],
   "source": [
    "s.isascii()"
   ]
  },
  {
   "cell_type": "code",
   "execution_count": 58,
   "id": "b33f4e8e",
   "metadata": {},
   "outputs": [
    {
     "data": {
      "text/plain": [
       "True"
      ]
     },
     "execution_count": 58,
     "metadata": {},
     "output_type": "execute_result"
    }
   ],
   "source": [
    "\"    \".isspace()"
   ]
  },
  {
   "cell_type": "code",
   "execution_count": 59,
   "id": "2826fd6c",
   "metadata": {},
   "outputs": [
    {
     "data": {
      "text/plain": [
       "'ansh    is      good'"
      ]
     },
     "execution_count": 59,
     "metadata": {},
     "output_type": "execute_result"
    }
   ],
   "source": [
    "s= \"ansh\\tis\\tgood\"\n",
    "s.expandtabs()"
   ]
  },
  {
   "cell_type": "code",
   "execution_count": 60,
   "id": "4f20d9d7",
   "metadata": {},
   "outputs": [
    {
     "name": "stdout",
     "output_type": "stream",
     "text": [
      "' Ansh ',' Ansh         ','        Ansh '\n"
     ]
    }
   ],
   "source": [
    "s=\"       Ansh        \"\n",
    "print(\"'\",s.strip(),\"','\",s.lstrip(),\"','\",s.rstrip(),\"'\")"
   ]
  },
  {
   "cell_type": "markdown",
   "id": "4e0dffd0",
   "metadata": {},
   "source": [
    "## Working with Lists"
   ]
  },
  {
   "cell_type": "code",
   "execution_count": 61,
   "id": "e3bd6c31",
   "metadata": {},
   "outputs": [
    {
     "name": "stdout",
     "output_type": "stream",
     "text": [
      "1 2 45.37\n"
     ]
    }
   ],
   "source": [
    "l = [1,2,3,4,'ansh',45.37, False]\n",
    "print(l[0], l[1],l[5])"
   ]
  },
  {
   "cell_type": "code",
   "execution_count": 62,
   "id": "dc2a4993",
   "metadata": {},
   "outputs": [
    {
     "data": {
      "text/plain": [
       "[0, 1, 2, 3, 4, 5, 6, 7, 8, 9]"
      ]
     },
     "execution_count": 62,
     "metadata": {},
     "output_type": "execute_result"
    }
   ],
   "source": [
    "# lists and range\n",
    "\n",
    "list(range(10))"
   ]
  },
  {
   "cell_type": "code",
   "execution_count": 63,
   "id": "a259a31d",
   "metadata": {},
   "outputs": [
    {
     "data": {
      "text/plain": [
       "7"
      ]
     },
     "execution_count": 63,
     "metadata": {},
     "output_type": "execute_result"
    }
   ],
   "source": [
    "len(l)"
   ]
  },
  {
   "cell_type": "code",
   "execution_count": 64,
   "id": "a2480c8d",
   "metadata": {},
   "outputs": [
    {
     "data": {
      "text/plain": [
       "[1, 2, 3, 4, 'ansh']"
      ]
     },
     "execution_count": 64,
     "metadata": {},
     "output_type": "execute_result"
    }
   ],
   "source": [
    "#Slicing operation on lists\n",
    "\n",
    "l[0:5]"
   ]
  },
  {
   "cell_type": "code",
   "execution_count": 65,
   "id": "e3af3b72",
   "metadata": {},
   "outputs": [
    {
     "data": {
      "text/plain": [
       "[False, 45.37, 'ansh', 4, 3, 2, 1]"
      ]
     },
     "execution_count": 65,
     "metadata": {},
     "output_type": "execute_result"
    }
   ],
   "source": [
    "l[::-1]"
   ]
  },
  {
   "cell_type": "code",
   "execution_count": 66,
   "id": "57ff36b4",
   "metadata": {},
   "outputs": [
    {
     "data": {
      "text/plain": [
       "[1, 3, 'ansh', False]"
      ]
     },
     "execution_count": 66,
     "metadata": {},
     "output_type": "execute_result"
    }
   ],
   "source": [
    "l[::2]"
   ]
  },
  {
   "cell_type": "code",
   "execution_count": 67,
   "id": "d1ed3540",
   "metadata": {},
   "outputs": [
    {
     "data": {
      "text/plain": [
       "[1, 2, 3, 4, 'ansh', 45.37, False, 'a', 'n', 'k']"
      ]
     },
     "execution_count": 67,
     "metadata": {},
     "output_type": "execute_result"
    }
   ],
   "source": [
    "l+list(\"ank\")"
   ]
  },
  {
   "cell_type": "code",
   "execution_count": 68,
   "id": "cde2cd66",
   "metadata": {},
   "outputs": [
    {
     "data": {
      "text/plain": [
       "[1, 2, 3, 4, 'ansh', 45.37, False, 'ank']"
      ]
     },
     "execution_count": 68,
     "metadata": {},
     "output_type": "execute_result"
    }
   ],
   "source": [
    "l+[\"ank\"]"
   ]
  },
  {
   "cell_type": "code",
   "execution_count": 69,
   "id": "cd98fb3d",
   "metadata": {},
   "outputs": [
    {
     "name": "stdout",
     "output_type": "stream",
     "text": [
      "[1, 2, 3, 4, 'ansh', 45.37, False, 'ank']\n"
     ]
    }
   ],
   "source": [
    "s = \"ank\"\n",
    "l.append(s)\n",
    "print(l)"
   ]
  },
  {
   "cell_type": "code",
   "execution_count": 70,
   "id": "08633d5c",
   "metadata": {},
   "outputs": [
    {
     "data": {
      "text/plain": [
       "[1,\n",
       " 2,\n",
       " 3,\n",
       " 4,\n",
       " 'ansh',\n",
       " 45.37,\n",
       " False,\n",
       " 'ank',\n",
       " 1,\n",
       " 2,\n",
       " 3,\n",
       " 4,\n",
       " 'ansh',\n",
       " 45.37,\n",
       " False,\n",
       " 'ank']"
      ]
     },
     "execution_count": 70,
     "metadata": {},
     "output_type": "execute_result"
    }
   ],
   "source": [
    "l*2"
   ]
  },
  {
   "cell_type": "code",
   "execution_count": 71,
   "id": "760d8014",
   "metadata": {},
   "outputs": [
    {
     "data": {
      "text/plain": [
       "True"
      ]
     },
     "execution_count": 71,
     "metadata": {},
     "output_type": "execute_result"
    }
   ],
   "source": [
    "# in Operator\n",
    "\n",
    "4 in l"
   ]
  },
  {
   "cell_type": "code",
   "execution_count": 72,
   "id": "eee35b23",
   "metadata": {},
   "outputs": [
    {
     "data": {
      "text/plain": [
       "102"
      ]
     },
     "execution_count": 72,
     "metadata": {},
     "output_type": "execute_result"
    }
   ],
   "source": [
    "# max function \n",
    "\n",
    "l1 = [1,2,3,4,4,5,102,3,43,34]\n",
    "max(l1)"
   ]
  },
  {
   "cell_type": "code",
   "execution_count": 73,
   "id": "68062ee1",
   "metadata": {},
   "outputs": [
    {
     "data": {
      "text/plain": [
       "'sadf'"
      ]
     },
     "execution_count": 73,
     "metadata": {},
     "output_type": "execute_result"
    }
   ],
   "source": [
    "l2 = ['ansh','sadf']\n",
    "max(l2)"
   ]
  },
  {
   "cell_type": "markdown",
   "id": "e82c6c4a",
   "metadata": {},
   "source": [
    "- Based on lexicographical order"
   ]
  },
  {
   "cell_type": "markdown",
   "id": "52d19f55",
   "metadata": {},
   "source": [
    "**List comprehension**"
   ]
  },
  {
   "cell_type": "code",
   "execution_count": 74,
   "id": "7630038e",
   "metadata": {},
   "outputs": [
    {
     "data": {
      "text/plain": [
       "['a', 'n', 's', 'h']"
      ]
     },
     "execution_count": 74,
     "metadata": {},
     "output_type": "execute_result"
    }
   ],
   "source": [
    "[i for i in \"ansh\"]"
   ]
  },
  {
   "cell_type": "code",
   "execution_count": 75,
   "id": "7b76cc00",
   "metadata": {},
   "outputs": [
    {
     "data": {
      "text/plain": [
       "[0, 2, 4, 6, 8]"
      ]
     },
     "execution_count": 75,
     "metadata": {},
     "output_type": "execute_result"
    }
   ],
   "source": [
    "[i for i in range(10) if i%2==0]"
   ]
  },
  {
   "cell_type": "code",
   "execution_count": 76,
   "id": "81f5a7f4",
   "metadata": {},
   "outputs": [
    {
     "data": {
      "text/plain": [
       "['0:even',\n",
       " '1:odd',\n",
       " '2:even',\n",
       " '3:odd',\n",
       " '4:even',\n",
       " '5:odd',\n",
       " '6:even',\n",
       " '7:odd',\n",
       " '8:even',\n",
       " '9:odd']"
      ]
     },
     "execution_count": 76,
     "metadata": {},
     "output_type": "execute_result"
    }
   ],
   "source": [
    "[\"{}:odd\".format(i) if i%2!=0 else \"{}:even\".format(i) for i in range(10)]"
   ]
  },
  {
   "cell_type": "code",
   "execution_count": 77,
   "id": "4751372f",
   "metadata": {},
   "outputs": [
    {
     "data": {
      "text/plain": [
       "[[0, 1, 2], [0, 1, 2], [0, 1, 2]]"
      ]
     },
     "execution_count": 77,
     "metadata": {},
     "output_type": "execute_result"
    }
   ],
   "source": [
    "[[j for j in range(3)] for i in range(3)]"
   ]
  },
  {
   "cell_type": "code",
   "execution_count": 78,
   "id": "7271b372",
   "metadata": {},
   "outputs": [
    {
     "data": {
      "text/plain": [
       "['test', 'yes', 'no', 'test', 'test']"
      ]
     },
     "execution_count": 78,
     "metadata": {},
     "output_type": "execute_result"
    }
   ],
   "source": [
    "[\"yes\" if i==1 else \"no\" if i==2 else \"test\" for i in range(5)]"
   ]
  },
  {
   "cell_type": "markdown",
   "id": "54b35c6e",
   "metadata": {},
   "source": [
    "**List functions**"
   ]
  },
  {
   "cell_type": "code",
   "execution_count": 79,
   "id": "67fba47f",
   "metadata": {},
   "outputs": [
    {
     "name": "stdout",
     "output_type": "stream",
     "text": [
      "[1, 2, 3, 4, 'ansh', 45.37, False, 'ank', 21]\n"
     ]
    }
   ],
   "source": [
    "l.append(21)\n",
    "print(l)"
   ]
  },
  {
   "cell_type": "code",
   "execution_count": 80,
   "id": "2fde00b7",
   "metadata": {},
   "outputs": [
    {
     "data": {
      "text/plain": [
       "1"
      ]
     },
     "execution_count": 80,
     "metadata": {},
     "output_type": "execute_result"
    }
   ],
   "source": [
    "l.pop(0)"
   ]
  },
  {
   "cell_type": "code",
   "execution_count": 81,
   "id": "c14158f3",
   "metadata": {},
   "outputs": [
    {
     "data": {
      "text/plain": [
       "21"
      ]
     },
     "execution_count": 81,
     "metadata": {},
     "output_type": "execute_result"
    }
   ],
   "source": [
    "l.pop()"
   ]
  },
  {
   "cell_type": "code",
   "execution_count": 82,
   "id": "4207d0a6",
   "metadata": {},
   "outputs": [
    {
     "name": "stdout",
     "output_type": "stream",
     "text": [
      "['ank', False, 45.37, 'ansh', 4, 3, 2]\n"
     ]
    }
   ],
   "source": [
    "l.reverse()\n",
    "print(l)"
   ]
  },
  {
   "cell_type": "code",
   "execution_count": 83,
   "id": "d2b144e1",
   "metadata": {},
   "outputs": [
    {
     "name": "stdout",
     "output_type": "stream",
     "text": [
      "[1, 2, 3, 3, 4, 4, 5, 34, 43, 102]\n"
     ]
    }
   ],
   "source": [
    "l1.sort()\n",
    "print(l1)"
   ]
  },
  {
   "cell_type": "code",
   "execution_count": 84,
   "id": "4dd65506",
   "metadata": {},
   "outputs": [
    {
     "name": "stdout",
     "output_type": "stream",
     "text": [
      "[102, 43, 34, 5, 4, 4, 3, 3, 2, 1]\n"
     ]
    }
   ],
   "source": [
    "l1.sort(reverse = True)\n",
    "print(l1)"
   ]
  },
  {
   "cell_type": "code",
   "execution_count": 85,
   "id": "76eeac8d",
   "metadata": {},
   "outputs": [
    {
     "data": {
      "text/plain": [
       "1"
      ]
     },
     "execution_count": 85,
     "metadata": {},
     "output_type": "execute_result"
    }
   ],
   "source": [
    "l.count(2)"
   ]
  },
  {
   "cell_type": "code",
   "execution_count": 86,
   "id": "0e3e9028",
   "metadata": {},
   "outputs": [
    {
     "name": "stdout",
     "output_type": "stream",
     "text": [
      "['ank', False, 45.37, 'ansh', 4, 3, 2, 'a', 'n', 's', 'h']\n"
     ]
    }
   ],
   "source": [
    "l.extend('ansh')\n",
    "print(l)"
   ]
  },
  {
   "cell_type": "code",
   "execution_count": 87,
   "id": "7ca571b3",
   "metadata": {},
   "outputs": [
    {
     "name": "stdout",
     "output_type": "stream",
     "text": [
      "[102, 43, 34, 5, 4, 4, 3, 3, 2, 1, 221, 123, 321]\n"
     ]
    }
   ],
   "source": [
    "l1.extend([221,123,321])\n",
    "print(l1)"
   ]
  },
  {
   "cell_type": "code",
   "execution_count": 88,
   "id": "e6d63297",
   "metadata": {},
   "outputs": [
    {
     "data": {
      "text/plain": [
       "6"
      ]
     },
     "execution_count": 88,
     "metadata": {},
     "output_type": "execute_result"
    }
   ],
   "source": [
    "l.index(2)"
   ]
  },
  {
   "cell_type": "code",
   "execution_count": 89,
   "id": "1b00a201",
   "metadata": {},
   "outputs": [
    {
     "name": "stdout",
     "output_type": "stream",
     "text": [
      "[1, 2, 3, 4, 5, 'ansh']\n"
     ]
    }
   ],
   "source": [
    "l = [1,2,3,4,5]\n",
    "l.append(\"ansh\")\n",
    "print(l)"
   ]
  },
  {
   "cell_type": "code",
   "execution_count": 90,
   "id": "ffb6116a",
   "metadata": {},
   "outputs": [
    {
     "name": "stdout",
     "output_type": "stream",
     "text": [
      "['ANK', 1, 2, 3, 4, 5, 'ansh']\n"
     ]
    }
   ],
   "source": [
    "l.insert(0,\"ANK\")\n",
    "print(l)"
   ]
  },
  {
   "cell_type": "code",
   "execution_count": 91,
   "id": "eebb2641",
   "metadata": {},
   "outputs": [],
   "source": [
    "l.insert(-1, \"Canbro\")"
   ]
  },
  {
   "cell_type": "markdown",
   "id": "93f85e05",
   "metadata": {},
   "source": [
    "- l.insert() inserts element before the mentioned index."
   ]
  },
  {
   "cell_type": "code",
   "execution_count": 92,
   "id": "71eb1a38",
   "metadata": {},
   "outputs": [
    {
     "name": "stdout",
     "output_type": "stream",
     "text": [
      "[1, 2, 3, 4, 5, 'Canbro', 'ansh']\n"
     ]
    }
   ],
   "source": [
    "# Deleting an element from a list\n",
    "\n",
    "l.remove(\"ANK\")\n",
    "print(l)"
   ]
  },
  {
   "cell_type": "code",
   "execution_count": 93,
   "id": "a8130807",
   "metadata": {},
   "outputs": [
    {
     "name": "stdout",
     "output_type": "stream",
     "text": [
      "[1, 2, 'new', 4, 5, 'Canbro', 'ansh']\n"
     ]
    }
   ],
   "source": [
    "# mutability in lists\n",
    "\n",
    "l[2]= \"new\"\n",
    "print(l)"
   ]
  },
  {
   "cell_type": "markdown",
   "id": "2e5ebd14",
   "metadata": {},
   "source": [
    "- Strings are immutable, whereas lists are mutable."
   ]
  },
  {
   "cell_type": "code",
   "execution_count": 94,
   "id": "b5562e01",
   "metadata": {},
   "outputs": [
    {
     "name": "stdout",
     "output_type": "stream",
     "text": [
      "[[1, 2, 3], [6, 7, 8], [23, 443, 53]]\n"
     ]
    }
   ],
   "source": [
    "# Another way of creating lists\n",
    "\n",
    "l1 = [1,2,3]\n",
    "l2 = [6,7,8]\n",
    "l3 = [23,443,53]\n",
    "\n",
    "l4 = [l1,l2,l3]\n",
    "print(l4)"
   ]
  },
  {
   "cell_type": "code",
   "execution_count": 95,
   "id": "8bd9fadc",
   "metadata": {},
   "outputs": [
    {
     "data": {
      "text/plain": [
       "2"
      ]
     },
     "execution_count": 95,
     "metadata": {},
     "output_type": "execute_result"
    }
   ],
   "source": [
    "l4[0][1]"
   ]
  },
  {
   "cell_type": "code",
   "execution_count": 96,
   "id": "19896a22",
   "metadata": {},
   "outputs": [
    {
     "name": "stdout",
     "output_type": "stream",
     "text": [
      "22\n"
     ]
    }
   ],
   "source": [
    "# Nested lists\n",
    "\n",
    "l1 = [1, 2, 3, [1, 2, 3, 44 ,5, [1, 22]]]\n",
    "print(l1[3][5][1])"
   ]
  },
  {
   "cell_type": "markdown",
   "id": "aa18f745",
   "metadata": {},
   "source": [
    "## Working withTuples"
   ]
  },
  {
   "cell_type": "code",
   "execution_count": 97,
   "id": "02348de8",
   "metadata": {},
   "outputs": [
    {
     "data": {
      "text/plain": [
       "tuple"
      ]
     },
     "execution_count": 97,
     "metadata": {},
     "output_type": "execute_result"
    }
   ],
   "source": [
    "t = (1,2,3,4,5,\"asndj\")\n",
    "type(t)"
   ]
  },
  {
   "cell_type": "code",
   "execution_count": 98,
   "id": "9e305b28",
   "metadata": {},
   "outputs": [
    {
     "name": "stdout",
     "output_type": "stream",
     "text": [
      "(1, 23, 21, 2, 1, 2, 3, 4, 5, 'asndj')\n"
     ]
    }
   ],
   "source": [
    "t1 = (1,23,21,2)\n",
    "print(t1+t)"
   ]
  },
  {
   "cell_type": "code",
   "execution_count": 99,
   "id": "7098efdb",
   "metadata": {},
   "outputs": [
    {
     "data": {
      "text/plain": [
       "(2, 21, 23, 1)"
      ]
     },
     "execution_count": 99,
     "metadata": {},
     "output_type": "execute_result"
    }
   ],
   "source": [
    "t1[::-1]"
   ]
  },
  {
   "cell_type": "markdown",
   "id": "1c7d47b6",
   "metadata": {},
   "source": [
    "**Tuple functions**"
   ]
  },
  {
   "cell_type": "code",
   "execution_count": 100,
   "id": "2d543263",
   "metadata": {},
   "outputs": [
    {
     "data": {
      "text/plain": [
       "1"
      ]
     },
     "execution_count": 100,
     "metadata": {},
     "output_type": "execute_result"
    }
   ],
   "source": [
    "t1.count(21)"
   ]
  },
  {
   "cell_type": "code",
   "execution_count": 101,
   "id": "fdda7382",
   "metadata": {},
   "outputs": [
    {
     "data": {
      "text/plain": [
       "2"
      ]
     },
     "execution_count": 101,
     "metadata": {},
     "output_type": "execute_result"
    }
   ],
   "source": [
    "t1.index(21)"
   ]
  },
  {
   "cell_type": "markdown",
   "id": "7132f23a",
   "metadata": {},
   "source": [
    "## Working with Dictionaries"
   ]
  },
  {
   "cell_type": "markdown",
   "id": "fac2981a",
   "metadata": {},
   "source": [
    "- Special symbols not allowed for key(except _ underscore).\n",
    "- Key could be a collection(tuples,strings but not lists or dict)."
   ]
  },
  {
   "cell_type": "code",
   "execution_count": 102,
   "id": "843dc833",
   "metadata": {},
   "outputs": [
    {
     "data": {
      "text/plain": [
       "dict"
      ]
     },
     "execution_count": 102,
     "metadata": {},
     "output_type": "execute_result"
    }
   ],
   "source": [
    "d = {'name':'Ansh',\n",
    "    'tech': [\"python\",\"DL\",\"ML\"]}\n",
    "type(d)"
   ]
  },
  {
   "cell_type": "code",
   "execution_count": 103,
   "id": "cf073ef5",
   "metadata": {},
   "outputs": [
    {
     "data": {
      "text/plain": [
       "True"
      ]
     },
     "execution_count": 103,
     "metadata": {},
     "output_type": "execute_result"
    }
   ],
   "source": [
    " \"python\" in d['tech']"
   ]
  },
  {
   "cell_type": "code",
   "execution_count": 104,
   "id": "6a66370a",
   "metadata": {},
   "outputs": [
    {
     "name": "stdout",
     "output_type": "stream",
     "text": [
      "{'name': 'blah', 'info': 'canyoshiz'}\n"
     ]
    }
   ],
   "source": [
    "d1 = {\"name\":\"Ansh\",\"info\":\"canyoshiz\",\"name\":'blah'}\n",
    "print(d1)"
   ]
  },
  {
   "cell_type": "code",
   "execution_count": 105,
   "id": "598c4250",
   "metadata": {},
   "outputs": [
    {
     "name": "stdout",
     "output_type": "stream",
     "text": [
      "{'ID': 'blah', 'can': {'name': 'blah', 'info': 'canyoshiz'}}\n"
     ]
    }
   ],
   "source": [
    "d2 = {\"ID\":\"blah\",\n",
    "     \"can\":d1}\n",
    "print(d2)"
   ]
  },
  {
   "cell_type": "code",
   "execution_count": 106,
   "id": "bf9103a6",
   "metadata": {},
   "outputs": [
    {
     "data": {
      "text/plain": [
       "'canyoshiz'"
      ]
     },
     "execution_count": 106,
     "metadata": {},
     "output_type": "execute_result"
    }
   ],
   "source": [
    "d2[\"can\"]['info']"
   ]
  },
  {
   "cell_type": "code",
   "execution_count": 107,
   "id": "c79b3840",
   "metadata": {},
   "outputs": [
    {
     "data": {
      "text/plain": [
       "dict_keys(['ID', 'can'])"
      ]
     },
     "execution_count": 107,
     "metadata": {},
     "output_type": "execute_result"
    }
   ],
   "source": [
    "d2.keys()"
   ]
  },
  {
   "cell_type": "code",
   "execution_count": 108,
   "id": "b3c9a8d4",
   "metadata": {},
   "outputs": [
    {
     "data": {
      "text/plain": [
       "dict_values(['blah', {'name': 'blah', 'info': 'canyoshiz'}])"
      ]
     },
     "execution_count": 108,
     "metadata": {},
     "output_type": "execute_result"
    }
   ],
   "source": [
    "d2.values()"
   ]
  },
  {
   "cell_type": "code",
   "execution_count": 109,
   "id": "18410174",
   "metadata": {},
   "outputs": [
    {
     "data": {
      "text/plain": [
       "dict_items([('ID', 'blah'), ('can', {'name': 'blah', 'info': 'canyoshiz'})])"
      ]
     },
     "execution_count": 109,
     "metadata": {},
     "output_type": "execute_result"
    }
   ],
   "source": [
    "d2.items()"
   ]
  },
  {
   "cell_type": "markdown",
   "id": "27a23b3d",
   "metadata": {},
   "source": [
    "## Working with Sets"
   ]
  },
  {
   "cell_type": "markdown",
   "id": "38665c6b",
   "metadata": {},
   "source": [
    "- No redundancy possible in sets.\n",
    "- Sets cannot sort themselves.\n",
    "- No indices in sets.\n",
    "- Sets cannot hold mutable collections(lists, dictionary), can hold only immutable collections(tuples)."
   ]
  },
  {
   "cell_type": "code",
   "execution_count": 110,
   "id": "f523cfa2",
   "metadata": {},
   "outputs": [
    {
     "name": "stdout",
     "output_type": "stream",
     "text": [
      "{1, 2, 3, 4, 5, 6, 231, 7, 8, 12}\n"
     ]
    }
   ],
   "source": [
    "s = {12,12,231,1,2,2,2,3,3,3,3,4,4,4,5,5,5,6,6,6,6,6,5,5,7,8,7}\n",
    "print(s)"
   ]
  },
  {
   "cell_type": "code",
   "execution_count": 111,
   "id": "a749d542",
   "metadata": {},
   "outputs": [
    {
     "name": "stdout",
     "output_type": "stream",
     "text": [
      "{33, 34, 4, 324, 12, 21, 'ansh', 23}\n"
     ]
    }
   ],
   "source": [
    "s1 = {12, 23,4,21,34,33 ,324, \"ansh\"}\n",
    "print(s1)"
   ]
  },
  {
   "cell_type": "code",
   "execution_count": 112,
   "id": "892232b9",
   "metadata": {},
   "outputs": [
    {
     "data": {
      "text/plain": [
       "(33, 34, 4, 324, 12, 21, 'ansh', 23)"
      ]
     },
     "execution_count": 112,
     "metadata": {},
     "output_type": "execute_result"
    }
   ],
   "source": [
    "tuple(s1)"
   ]
  },
  {
   "cell_type": "code",
   "execution_count": 113,
   "id": "a9c13dbc",
   "metadata": {},
   "outputs": [
    {
     "data": {
      "text/plain": [
       "[33, 34, 4, 324, 12, 21, 'ansh', 23]"
      ]
     },
     "execution_count": 113,
     "metadata": {},
     "output_type": "execute_result"
    }
   ],
   "source": [
    "list(s1)"
   ]
  },
  {
   "cell_type": "code",
   "execution_count": 114,
   "id": "2721497b",
   "metadata": {},
   "outputs": [
    {
     "name": "stdout",
     "output_type": "stream",
     "text": [
      "{33, 34, 4, 324, 12, 212, 21, 'ansh', 23}\n"
     ]
    }
   ],
   "source": [
    "s1.add(212)\n",
    "print(s1)"
   ]
  },
  {
   "cell_type": "code",
   "execution_count": 115,
   "id": "4d66d331",
   "metadata": {},
   "outputs": [
    {
     "name": "stdout",
     "output_type": "stream",
     "text": [
      "{33, 34, 4, 324, 12, 212, 'ansh', 23}\n"
     ]
    }
   ],
   "source": [
    "s1.discard(21)\n",
    "print(s1)"
   ]
  },
  {
   "cell_type": "code",
   "execution_count": 116,
   "id": "fb489036",
   "metadata": {},
   "outputs": [
    {
     "data": {
      "text/plain": [
       "{12, 212, 23, 324, 33, 4, 'ansh'}"
      ]
     },
     "execution_count": 116,
     "metadata": {},
     "output_type": "execute_result"
    }
   ],
   "source": [
    "s1.remove(34)\n",
    "s1"
   ]
  },
  {
   "cell_type": "markdown",
   "id": "52108abb",
   "metadata": {},
   "source": [
    "- set.remove() gives an error whereas, set.discard() does not give an error if a key is not present."
   ]
  },
  {
   "cell_type": "markdown",
   "id": "e0292496",
   "metadata": {},
   "source": [
    "## Conditionals"
   ]
  },
  {
   "cell_type": "code",
   "execution_count": 117,
   "id": "d4934299",
   "metadata": {},
   "outputs": [
    {
     "name": "stdout",
     "output_type": "stream",
     "text": [
      " Enter your salary: 3671\n",
      " Buy a car. \n"
     ]
    }
   ],
   "source": [
    "# If, else and elif\n",
    "\n",
    "salary = int(input(\" Enter your salary: \"))\n",
    "\n",
    "if(salary>3000 and salary<=5000):\n",
    "    print(\" Buy a car. \")\n",
    "elif(salary>5000):\n",
    "    print(\" Buy a bus. \")\n",
    "else:\n",
    "    print(\" Enter a number > 3k!\")"
   ]
  },
  {
   "cell_type": "code",
   "execution_count": 118,
   "id": "78452a1c",
   "metadata": {},
   "outputs": [
    {
     "name": "stdout",
     "output_type": "stream",
     "text": [
      "10\n",
      "10\n",
      "10\n",
      "10\n",
      "10\n"
     ]
    }
   ],
   "source": [
    "# While loop\n",
    "\n",
    "initial = 0\n",
    "final = 10\n",
    "ctr = 0\n",
    "\n",
    "while initial<final:\n",
    "    print(final-initial)\n",
    "    ctr+=1\n",
    "    if(ctr==5):\n",
    "        break"
   ]
  },
  {
   "cell_type": "code",
   "execution_count": 119,
   "id": "8f8cdb99",
   "metadata": {},
   "outputs": [
    {
     "name": "stdout",
     "output_type": "stream",
     "text": [
      "0\n",
      "1\n",
      "2\n",
      "3\n",
      "4\n",
      "No!\n"
     ]
    }
   ],
   "source": [
    "a = 5\n",
    "i = 0\n",
    "while i<a:\n",
    "    print(i)\n",
    "    i+=1\n",
    "else:\n",
    "    print(\"No!\")"
   ]
  },
  {
   "cell_type": "code",
   "execution_count": 120,
   "id": "3b1aeb91",
   "metadata": {},
   "outputs": [
    {
     "name": "stdout",
     "output_type": "stream",
     "text": [
      "Hello! 0\n",
      "Hello! 1\n",
      "Hello! 2\n",
      "Hello! 3\n",
      "Hello! 4\n",
      "No Hello!\n"
     ]
    }
   ],
   "source": [
    "# For loop\n",
    "\n",
    "for i in range(5):\n",
    "    print(\"Hello!\",i)\n",
    "else:\n",
    "    print(\"No Hello!\")"
   ]
  },
  {
   "cell_type": "code",
   "execution_count": 121,
   "id": "c0fba8b5",
   "metadata": {},
   "outputs": [
    {
     "name": "stdout",
     "output_type": "stream",
     "text": [
      "key1 adsad\n",
      "key2 asdadsa\n"
     ]
    }
   ],
   "source": [
    "# loops and dictionary\n",
    "d = {\"key1\":\"adsad\", \"key2\":\"asdadsa\"}\n",
    "for i in d:\n",
    "    print(i, d[i])"
   ]
  },
  {
   "cell_type": "code",
   "execution_count": 193,
   "id": "c4080514",
   "metadata": {},
   "outputs": [
    {
     "name": "stdout",
     "output_type": "stream",
     "text": [
      "key1 adsad\n",
      "key2 asdadsa\n"
     ]
    }
   ],
   "source": [
    "d = {\"key1\":\"adsad\", \"key2\":\"asdadsa\"}\n",
    "for i,j in d.items():\n",
    "    print(i, j)"
   ]
  },
  {
   "cell_type": "markdown",
   "id": "920d6b87",
   "metadata": {},
   "source": [
    "- By default the iterator iterates on the keys of the dictionary."
   ]
  },
  {
   "cell_type": "code",
   "execution_count": 122,
   "id": "70a56cbd",
   "metadata": {},
   "outputs": [
    {
     "name": "stdout",
     "output_type": "stream",
     "text": [
      "1\n",
      "2\n",
      "3\n",
      "4\n",
      "5\n",
      "6\n",
      "7\n",
      "8\n",
      "9\n",
      "10\n",
      "can\n"
     ]
    }
   ],
   "source": [
    "l = [1,2,3,4,5,6,7,8,9,10]\n",
    "for i in l:\n",
    "    print(i)\n",
    "else:\n",
    "    print(\"can\")"
   ]
  },
  {
   "cell_type": "markdown",
   "id": "44e52645",
   "metadata": {},
   "source": [
    "- In for-else, else condition only gets executed when the for loop is completed with its compilation and interpretation. If the loop is broken in between, else won't be executed."
   ]
  },
  {
   "cell_type": "code",
   "execution_count": 176,
   "id": "4c32d097",
   "metadata": {},
   "outputs": [
    {
     "data": {
      "text/plain": [
       "[7, 6, 5, 4, 3, 2, 1, 0]"
      ]
     },
     "execution_count": 176,
     "metadata": {},
     "output_type": "execute_result"
    }
   ],
   "source": [
    "# Printing the list of reversed indices of a collection\n",
    "\n",
    "t = (1,23,4,42,32,313,13,3)\n",
    "n = list(range(len(t)-1,-1,-1))\n",
    "n"
   ]
  },
  {
   "cell_type": "code",
   "execution_count": 123,
   "id": "f16bfac2",
   "metadata": {},
   "outputs": [
    {
     "name": "stdout",
     "output_type": "stream",
     "text": [
      "ashakul\n"
     ]
    }
   ],
   "source": [
    "a = \"anshankul\"\n",
    "aa = \"\"\n",
    "for i in range(len(a)):\n",
    "    if a[i] == \"n\":\n",
    "        continue\n",
    "    else:\n",
    "        aa = aa + a[i]\n",
    "print(aa)"
   ]
  },
  {
   "cell_type": "markdown",
   "id": "bcaa044a",
   "metadata": {},
   "source": [
    "- Break statement ends the whole loop whereas continue ends the current iteration of the loop."
   ]
  },
  {
   "cell_type": "code",
   "execution_count": 124,
   "id": "0cb34739",
   "metadata": {},
   "outputs": [
    {
     "name": "stdout",
     "output_type": "stream",
     "text": [
      "*\n",
      "*\n",
      "*\n"
     ]
    }
   ],
   "source": [
    "# end parameter in print\n",
    "\n",
    "for i  in range(3):\n",
    "    print(\"*\")"
   ]
  },
  {
   "cell_type": "code",
   "execution_count": 125,
   "id": "68d5e79b",
   "metadata": {},
   "outputs": [
    {
     "name": "stdout",
     "output_type": "stream",
     "text": [
      "***"
     ]
    }
   ],
   "source": [
    "for i  in range(3):\n",
    "    print(\"*\", end=\"\")"
   ]
  },
  {
   "cell_type": "code",
   "execution_count": 126,
   "id": "4e90cc21",
   "metadata": {},
   "outputs": [
    {
     "name": "stdout",
     "output_type": "stream",
     "text": [
      "A is a vowel\n",
      "n is not a vowel\n",
      "s is not a vowel\n",
      "h is not a vowel\n",
      "A is a vowel\n",
      "n is not a vowel\n",
      "k is not a vowel\n",
      "u is a vowel\n",
      "l is not a vowel\n"
     ]
    }
   ],
   "source": [
    "# Checking for vowels or consonants\n",
    "\n",
    "name = \"AnshAnkul\"\n",
    "vowels = \"AaEeiIoOuU\"\n",
    "\n",
    "for i in name:\n",
    "    if i in vowels:\n",
    "        print(\"{} is a vowel\".format(i))\n",
    "    else:\n",
    "        print(\"{} is not a vowel\".format(i))"
   ]
  },
  {
   "cell_type": "markdown",
   "id": "269d796b",
   "metadata": {},
   "source": [
    "**Pattern problems**"
   ]
  },
  {
   "cell_type": "code",
   "execution_count": 127,
   "id": "f8b7a8b6",
   "metadata": {},
   "outputs": [
    {
     "name": "stdout",
     "output_type": "stream",
     "text": [
      "+ \r\n",
      "+ + \r\n",
      "+ + + \r\n",
      "+ + + + \r\n",
      "+ + + + + \r\n"
     ]
    }
   ],
   "source": [
    "n = 5\n",
    "for i in range(n):\n",
    "    for j in range(i+1):\n",
    "        print(\"+\",end=\" \")\n",
    "    print(\"\\r\") # \\r for enter"
   ]
  },
  {
   "cell_type": "code",
   "execution_count": 128,
   "id": "e56d701d",
   "metadata": {},
   "outputs": [
    {
     "name": "stdout",
     "output_type": "stream",
     "text": [
      "*********\n",
      "\n",
      " *******\n",
      "\n",
      "  *****\n",
      "\n",
      "   ***\n",
      "\n",
      "    *\n",
      "\n"
     ]
    }
   ],
   "source": [
    "for i in range(n,0,-1):\n",
    "    for j in range(n-i):\n",
    "        print(\" \", end=\"\")\n",
    "    for j in range(2*i-1):\n",
    "        print(\"*\",end=\"\")\n",
    "    print(\"\\n\")"
   ]
  },
  {
   "cell_type": "code",
   "execution_count": 129,
   "id": "473ef8ea",
   "metadata": {},
   "outputs": [
    {
     "name": "stdout",
     "output_type": "stream",
     "text": [
      "     \n",
      "\n",
      "    *\n",
      "\n",
      "   ***\n",
      "\n",
      "  *****\n",
      "\n",
      " *******\n",
      "\n"
     ]
    }
   ],
   "source": [
    "n = 5\n",
    "i=0\n",
    "\n",
    "while i in range(n):\n",
    "    j=0\n",
    "    while j in range(n-i):\n",
    "        print(\" \", end=\"\")\n",
    "        j+=1\n",
    "    j=0\n",
    "    while j in range(2*i-1):\n",
    "        print(\"*\", end=\"\")\n",
    "        j+=1\n",
    "    print('\\n')\n",
    "    i+=1"
   ]
  },
  {
   "cell_type": "code",
   "execution_count": 130,
   "id": "de004105",
   "metadata": {},
   "outputs": [
    {
     "name": "stdout",
     "output_type": "stream",
     "text": [
      " * * * * * \n",
      "\n",
      "  * * * * \n",
      "\n",
      "   * * * \n",
      "\n",
      "    * * \n",
      "\n",
      "     * \n",
      "\n"
     ]
    }
   ],
   "source": [
    "n = 5\n",
    "for i in range(0,n):\n",
    "    for j in range(0,i+1):\n",
    "        print(\" \", end=\"\")\n",
    "    \n",
    "    for j in range(n,i,-1):\n",
    "        print(\"* \", end=\"\")\n",
    "    print(\"\\n\")"
   ]
  },
  {
   "cell_type": "code",
   "execution_count": 149,
   "id": "0fdae4fe",
   "metadata": {},
   "outputs": [
    {
     "name": "stdout",
     "output_type": "stream",
     "text": [
      "            ansh \n",
      "          ansh ansh \n",
      "        ansh ansh ansh \n",
      "      ansh ansh ansh ansh \n",
      "    ansh ansh ansh ansh ansh \n"
     ]
    }
   ],
   "source": [
    "n = 5\n",
    "i = 0\n",
    "while i < n :\n",
    "    print(\"  \"*(n-i+1)+\"ansh \"*(i+1))\n",
    "    i+=1"
   ]
  },
  {
   "cell_type": "code",
   "execution_count": 166,
   "id": "94d782a4",
   "metadata": {},
   "outputs": [
    {
     "name": "stdout",
     "output_type": "stream",
     "text": [
      "                    ansh    \n",
      "\n",
      "                ansh    ansh    \n",
      "\n",
      "            ansh    ansh    ansh    \n",
      "\n",
      "        ansh    ansh    ansh    ansh    \n",
      "\n",
      "    ansh    ansh    ansh    ansh    ansh    \n",
      "\n"
     ]
    }
   ],
   "source": [
    "n = 5\n",
    "k=n\n",
    "for i in range(5):\n",
    "    for j in range(k,0,-1):\n",
    "        print(\"    \", end=\"\")\n",
    "    for j in range(i+1):\n",
    "        print(\"ansh\", end=\"    \")\n",
    "    k-=1\n",
    "    print(\"\\n\")"
   ]
  },
  {
   "cell_type": "markdown",
   "id": "c0ae05f9",
   "metadata": {},
   "source": [
    "## Working with Functions/Methods"
   ]
  },
  {
   "cell_type": "markdown",
   "id": "bd610528",
   "metadata": {},
   "source": [
    "- Used to reduce code redundancy\n",
    "- Reusability of code enabled using functions\n",
    "- Modularity\n",
    "- Code readability"
   ]
  },
  {
   "cell_type": "code",
   "execution_count": 132,
   "id": "5f25d985",
   "metadata": {},
   "outputs": [
    {
     "name": "stdout",
     "output_type": "stream",
     "text": [
      "120\n"
     ]
    }
   ],
   "source": [
    "def adding(a,b):   # Function declaration and definition\n",
    "    print (a+b)\n",
    "\n",
    "adding(99,21)  # Calling a function"
   ]
  },
  {
   "cell_type": "code",
   "execution_count": 133,
   "id": "76046435",
   "metadata": {},
   "outputs": [
    {
     "data": {
      "text/plain": [
       "372"
      ]
     },
     "execution_count": 133,
     "metadata": {},
     "output_type": "execute_result"
    }
   ],
   "source": [
    "def multiply(a,b):\n",
    "    return a*b       # Return statement\n",
    "\n",
    "multiply(12,31)"
   ]
  },
  {
   "cell_type": "code",
   "execution_count": 134,
   "id": "327420ce",
   "metadata": {},
   "outputs": [
    {
     "name": "stdout",
     "output_type": "stream",
     "text": [
      "(5, 6) <class 'tuple'>\n",
      "33 270\n"
     ]
    }
   ],
   "source": [
    "def test(n,m):\n",
    "    return n+m, n*m\n",
    "\n",
    "print(test(2,3), type(test(2,3)))\n",
    "\n",
    "a,b = test(15,18)\n",
    "print(a,b)"
   ]
  },
  {
   "cell_type": "markdown",
   "id": "06b54f8e",
   "metadata": {},
   "source": [
    "- If we return multiple values from a function in python, then it returns a tuple.\n",
    "- You can store the returned variables in different variables as shown above.\n",
    "- print() function return NoneType."
   ]
  },
  {
   "cell_type": "code",
   "execution_count": 135,
   "id": "2daf5039",
   "metadata": {},
   "outputs": [],
   "source": [
    "def test1(n,m):\n",
    "    return n+m, n*m, n*n\n",
    "\n",
    "a,_,_ = test1(23,22)"
   ]
  },
  {
   "cell_type": "markdown",
   "id": "71a99b4e",
   "metadata": {},
   "source": [
    "- Here, '_' acts as a placeholder."
   ]
  },
  {
   "cell_type": "code",
   "execution_count": 136,
   "id": "6ec80d51",
   "metadata": {},
   "outputs": [
    {
     "name": "stdout",
     "output_type": "stream",
     "text": [
      "122 4 71\n"
     ]
    }
   ],
   "source": [
    "# Default values\n",
    "\n",
    "def a(n = 39,m =2):\n",
    "    return n+m\n",
    "\n",
    "print(a(2,120), a(2), a(m=32))"
   ]
  },
  {
   "cell_type": "markdown",
   "id": "67b3e577",
   "metadata": {},
   "source": [
    "- Non-default argument cannot follows default argument."
   ]
  },
  {
   "cell_type": "code",
   "execution_count": 137,
   "id": "1f79370f",
   "metadata": {},
   "outputs": [
    {
     "data": {
      "text/plain": [
       "('ansh', 'ankul', [2, 12, 323, 'sja'])"
      ]
     },
     "execution_count": 137,
     "metadata": {},
     "output_type": "execute_result"
    }
   ],
   "source": [
    "# args / Positional Argument\n",
    "\n",
    "def test( *args):\n",
    "    return args\n",
    "\n",
    "test(\"ansh\", \"ankul\", [2,12,323,\"sja\"])"
   ]
  },
  {
   "cell_type": "markdown",
   "id": "c237fe67",
   "metadata": {},
   "source": [
    "- returns a tuple as it returns multiple values"
   ]
  },
  {
   "cell_type": "code",
   "execution_count": 138,
   "id": "d1108cdb",
   "metadata": {},
   "outputs": [
    {
     "data": {
      "text/plain": [
       "['ansh', 'ankul', 2, 12, 323, 'sja']"
      ]
     },
     "execution_count": 138,
     "metadata": {},
     "output_type": "execute_result"
    }
   ],
   "source": [
    "# Combining multiple lists into 1 list \n",
    "\n",
    "def test(*args):\n",
    "    l=[]\n",
    "    for i in args:\n",
    "        l = l+i\n",
    "    return l\n",
    "\n",
    "test([\"ansh\"], [\"ankul\"], [2,12,323,\"sja\"])"
   ]
  },
  {
   "cell_type": "code",
   "execution_count": 139,
   "id": "78e24b79",
   "metadata": {},
   "outputs": [
    {
     "data": {
      "text/plain": [
       "{'a': 8, 'b': 5, 'c': 3}"
      ]
     },
     "execution_count": 139,
     "metadata": {},
     "output_type": "execute_result"
    }
   ],
   "source": [
    "# kwargs / Keyword args: Takes in key-value pair of variable length\n",
    "\n",
    "def test(**kwargs):\n",
    "    return kwargs\n",
    "\n",
    "test(a=8,b=5,c=3)"
   ]
  },
  {
   "cell_type": "markdown",
   "id": "1ee62006",
   "metadata": {},
   "source": [
    "- returns a dictionary"
   ]
  },
  {
   "cell_type": "code",
   "execution_count": 140,
   "id": "2c8cc6a0",
   "metadata": {},
   "outputs": [
    {
     "data": {
      "text/plain": [
       "{int: [1, 23, 4],\n",
       " str: ['sad', 'asdda'],\n",
       " tuple: [(1, ',asd')],\n",
       " list: [[12, 332, 13], [123, 341]]}"
      ]
     },
     "execution_count": 140,
     "metadata": {},
     "output_type": "execute_result"
    }
   ],
   "source": [
    "# Creating a dictionary with keys as the type and \n",
    "# values as the arguments passed of that type\n",
    "\n",
    "def test(*args):\n",
    "    d = {}\n",
    "    for i in args:\n",
    "        if type(i) in d:\n",
    "            d[type(i)].append(i)\n",
    "        else:\n",
    "            d[type(i)] = [i]\n",
    "    return d\n",
    "\n",
    "test(1,23,4,\"sad\",\"asdda\", (1,\",asd\"),[12,332,13],[123,341])"
   ]
  },
  {
   "cell_type": "code",
   "execution_count": 141,
   "id": "1900ab26",
   "metadata": {},
   "outputs": [
    {
     "name": "stdout",
     "output_type": "stream",
     "text": [
      "3\n"
     ]
    }
   ],
   "source": [
    "# lambda function / Anonymous function\n",
    "\n",
    "m = lambda x,y: x+y\n",
    "print(m(1,2))"
   ]
  },
  {
   "cell_type": "code",
   "execution_count": 142,
   "id": "75653d19",
   "metadata": {},
   "outputs": [
    {
     "name": "stdout",
     "output_type": "stream",
     "text": [
      "1.0\n"
     ]
    }
   ],
   "source": [
    "r = 10            # Global scope\n",
    "def test(a,b):\n",
    "    r=a/b         # Local scope\n",
    "    print(r)\n",
    "test(10,10)"
   ]
  },
  {
   "cell_type": "code",
   "execution_count": 143,
   "id": "5ddc984f",
   "metadata": {},
   "outputs": [
    {
     "name": "stdout",
     "output_type": "stream",
     "text": [
      "my name is ansh\n"
     ]
    }
   ],
   "source": [
    "# Creating a docstring\n",
    "def test():\n",
    "    '''this is my first function'''  #docstring \n",
    "    \n",
    "    print(\"my name is ansh\")\n",
    "test()"
   ]
  },
  {
   "cell_type": "markdown",
   "id": "5f5d8bd3",
   "metadata": {},
   "source": [
    "- Docstring is visible when you press shift+tab when your cursor is on the function call."
   ]
  },
  {
   "cell_type": "code",
   "execution_count": 191,
   "id": "4d64ed8b",
   "metadata": {},
   "outputs": [
    {
     "name": "stdout",
     "output_type": "stream",
     "text": [
      "3\n",
      "3\n",
      "3\n",
      "3\n"
     ]
    }
   ],
   "source": [
    "t = (\"ansh\",\"ankul\", \"aasda\",3, [1,2218,3,3213,123],[1,23,3,2],{3:\"ansh\"})\n",
    "for i in t:\n",
    "    if(type(i)==list or type(i)==tuple or type(i)==dict):\n",
    "        for j in i:\n",
    "            if j ==3:\n",
    "                print(j)\n",
    "    elif(type(i)==int and i==3):\n",
    "        print(i)"
   ]
  },
  {
   "cell_type": "markdown",
   "id": "1b5eb071",
   "metadata": {},
   "source": [
    "## Iterators and Generator Functions"
   ]
  },
  {
   "cell_type": "markdown",
   "id": "d74e4d5c",
   "metadata": {},
   "source": [
    "- int is not iterable but str, list, dict are.\n",
    "\n",
    "ITERATORS are used to extract data from iterable objects. Iterator in python is an object that is used to iterate over iterable objects like lists, tuples, dicts, and sets. The iterator object is initialized using the iter() method. It uses the next() method for iteration."
   ]
  },
  {
   "cell_type": "code",
   "execution_count": 3,
   "id": "84e224b9",
   "metadata": {},
   "outputs": [
    {
     "data": {
      "text/plain": [
       "'A'"
      ]
     },
     "execution_count": 3,
     "metadata": {},
     "output_type": "execute_result"
    }
   ],
   "source": [
    "s = \"AnshAnkul is good.\"\n",
    "s = iter(s)\n",
    "next(s)"
   ]
  },
  {
   "cell_type": "code",
   "execution_count": 4,
   "id": "4fbb55c5",
   "metadata": {},
   "outputs": [
    {
     "data": {
      "text/plain": [
       "'n'"
      ]
     },
     "execution_count": 4,
     "metadata": {},
     "output_type": "execute_result"
    }
   ],
   "source": [
    "next(s)"
   ]
  },
  {
   "cell_type": "markdown",
   "id": "054878aa",
   "metadata": {},
   "source": [
    "- \"for\" loop basically tries to convert the collection to an iterator. "
   ]
  },
  {
   "cell_type": "code",
   "execution_count": 8,
   "id": "1658d786",
   "metadata": {},
   "outputs": [],
   "source": [
    "def test(m):\n",
    "    for i in range(m):\n",
    "        yield i**3"
   ]
  },
  {
   "cell_type": "code",
   "execution_count": 9,
   "id": "b54381b7",
   "metadata": {},
   "outputs": [
    {
     "data": {
      "text/plain": [
       "<generator object test at 0x00000184E4E0CDD0>"
      ]
     },
     "execution_count": 9,
     "metadata": {},
     "output_type": "execute_result"
    }
   ],
   "source": [
    "test(5)"
   ]
  },
  {
   "cell_type": "code",
   "execution_count": 10,
   "id": "9c3d0924",
   "metadata": {},
   "outputs": [
    {
     "name": "stdout",
     "output_type": "stream",
     "text": [
      "0\n",
      "1\n",
      "8\n",
      "27\n",
      "64\n"
     ]
    }
   ],
   "source": [
    "for i in test(5):\n",
    "    print(i)"
   ]
  },
  {
   "cell_type": "markdown",
   "id": "d4468be5",
   "metadata": {},
   "source": [
    "GENERATOR FUNCTION: A generator is a special type of function which does not return a single value, instead, it returns an iterator object with a sequence of values.\n",
    "\n",
    "Advantage: \n",
    "- Used to generate huge amount of data in runtime.\n",
    "- Huge memory utilization efficiency.\n",
    "- Only tries to remember the last item of a collection and not the whole collection.\n",
    "\n",
    "**Note: Range function is not a generator function.**"
   ]
  },
  {
   "cell_type": "code",
   "execution_count": 16,
   "id": "ef35cbb4",
   "metadata": {},
   "outputs": [],
   "source": [
    "# Generator function to generate fibonacci series\n",
    "\n",
    "def fibonacci(n):\n",
    "    a = 1\n",
    "    b = 1\n",
    "    for i in range(n):\n",
    "        yield(a)\n",
    "        a, b = b, a+b"
   ]
  },
  {
   "cell_type": "code",
   "execution_count": 17,
   "id": "1e7f4a69",
   "metadata": {},
   "outputs": [
    {
     "name": "stdout",
     "output_type": "stream",
     "text": [
      "1\n",
      "1\n",
      "2\n",
      "3\n",
      "5\n",
      "8\n",
      "13\n",
      "21\n",
      "34\n",
      "55\n"
     ]
    }
   ],
   "source": [
    "for i in fibonacci(10):\n",
    "    print(i)"
   ]
  },
  {
   "cell_type": "markdown",
   "id": "7dea4cc8",
   "metadata": {},
   "source": [
    "## File Handling in Python"
   ]
  },
  {
   "cell_type": "code",
   "execution_count": 38,
   "id": "f5da4e78",
   "metadata": {},
   "outputs": [],
   "source": [
    "f = open(\"test.txt\", \"w\")\n",
    "f.write(r\"Ansh is awesome and spider man is awesome too. Good boy\")\n",
    "f.close()"
   ]
  },
  {
   "cell_type": "markdown",
   "id": "d70ceee6",
   "metadata": {},
   "source": [
    "- 'r'       open for reading (default)\n",
    "- 'w'       open for writing, truncating the file first(clear the data)\n",
    "- 'x'       create a new file and open it for writing\n",
    "- 'a'       open for writing, appending to the end of the file if it exists\n",
    "- 'b'       binary mode\n",
    "- 't'       text mode (default)\n",
    "- '+'       open a disk file for updating (reading and writing)\n",
    "- 'U'       universal newline mode (deprecated)"
   ]
  },
  {
   "cell_type": "code",
   "execution_count": 50,
   "id": "2bb7d1a4",
   "metadata": {},
   "outputs": [
    {
     "data": {
      "text/plain": [
       "'Ansh is awesome and spider man is awesome too. Good boy Very bad Very bad'"
      ]
     },
     "execution_count": 50,
     "metadata": {},
     "output_type": "execute_result"
    }
   ],
   "source": [
    "f = open(\"test.txt\")\n",
    "f.read()"
   ]
  },
  {
   "cell_type": "markdown",
   "id": "c07dc888",
   "metadata": {},
   "source": [
    "- After reading the whole file the cursor is placed at the end of the file. To reposition the cursor use seek() function."
   ]
  },
  {
   "cell_type": "code",
   "execution_count": 51,
   "id": "2666d26a",
   "metadata": {},
   "outputs": [
    {
     "data": {
      "text/plain": [
       "'h is awesome and spider man is awesome too. Good boy Very bad Very bad'"
      ]
     },
     "execution_count": 51,
     "metadata": {},
     "output_type": "execute_result"
    }
   ],
   "source": [
    "f.seek(3)\n",
    "f.read()"
   ]
  },
  {
   "cell_type": "code",
   "execution_count": 52,
   "id": "a2fcd7fe",
   "metadata": {},
   "outputs": [
    {
     "data": {
      "text/plain": [
       "'Ansh is aw'"
      ]
     },
     "execution_count": 52,
     "metadata": {},
     "output_type": "execute_result"
    }
   ],
   "source": [
    "f.seek(0)\n",
    "f.read(10)"
   ]
  },
  {
   "cell_type": "code",
   "execution_count": 53,
   "id": "88bd5d67",
   "metadata": {},
   "outputs": [],
   "source": [
    "f.close()"
   ]
  },
  {
   "cell_type": "code",
   "execution_count": 54,
   "id": "6c96c26c",
   "metadata": {},
   "outputs": [],
   "source": [
    "f = open(\"test.txt\", \"a\")\n",
    "f.write(\" Very bad\")\n",
    "f.close()"
   ]
  },
  {
   "cell_type": "code",
   "execution_count": 55,
   "id": "b798d50f",
   "metadata": {},
   "outputs": [
    {
     "data": {
      "text/plain": [
       "b'Ansh is awesome and spider man is awesome too. Good boy Very bad Very bad Very bad'"
      ]
     },
     "execution_count": 55,
     "metadata": {},
     "output_type": "execute_result"
    }
   ],
   "source": [
    "f = open(\"test.txt\", \"rb\")\n",
    "f.read()"
   ]
  },
  {
   "cell_type": "code",
   "execution_count": 57,
   "id": "a3649cea",
   "metadata": {},
   "outputs": [
    {
     "data": {
      "text/plain": [
       "79"
      ]
     },
     "execution_count": 57,
     "metadata": {},
     "output_type": "execute_result"
    }
   ],
   "source": [
    "f.seek(-3, 2)"
   ]
  },
  {
   "cell_type": "code",
   "execution_count": 58,
   "id": "1de708d5",
   "metadata": {},
   "outputs": [
    {
     "data": {
      "text/plain": [
       "b'bad'"
      ]
     },
     "execution_count": 58,
     "metadata": {},
     "output_type": "execute_result"
    }
   ],
   "source": [
    "f.read()"
   ]
  },
  {
   "cell_type": "code",
   "execution_count": 59,
   "id": "fbf5dd1d",
   "metadata": {},
   "outputs": [
    {
     "data": {
      "text/plain": [
       "b'\\n'"
      ]
     },
     "execution_count": 59,
     "metadata": {},
     "output_type": "execute_result"
    }
   ],
   "source": [
    "f.readline()"
   ]
  },
  {
   "cell_type": "code",
   "execution_count": 60,
   "id": "af7ae3da",
   "metadata": {},
   "outputs": [
    {
     "data": {
      "text/plain": [
       "b'asdasd\\n'"
      ]
     },
     "execution_count": 60,
     "metadata": {},
     "output_type": "execute_result"
    }
   ],
   "source": [
    "f.readline()"
   ]
  },
  {
   "cell_type": "code",
   "execution_count": 61,
   "id": "84adda21",
   "metadata": {},
   "outputs": [
    {
     "data": {
      "text/plain": [
       "b'sad\\n'"
      ]
     },
     "execution_count": 61,
     "metadata": {},
     "output_type": "execute_result"
    }
   ],
   "source": [
    "f.readline()"
   ]
  },
  {
   "cell_type": "code",
   "execution_count": 62,
   "id": "2356e4a5",
   "metadata": {},
   "outputs": [
    {
     "name": "stdout",
     "output_type": "stream",
     "text": [
      "b'Ansh is awesome and spider man is awesome too. Good boy Very bad Very bad Very bad\\n'\n",
      "b'asdasd\\n'\n",
      "b'sad\\n'\n",
      "b'asd\\n'\n",
      "b'a\\n'\n",
      "b'sd\\n'\n",
      "b'asd\\n'\n",
      "b'a\\n'\n",
      "b'sfasf\\n'\n",
      "b'asdfaf'\n"
     ]
    }
   ],
   "source": [
    "f.seek(0)\n",
    "for i in f:\n",
    "    print(i)\n",
    "f.close()"
   ]
  },
  {
   "cell_type": "code",
   "execution_count": 3,
   "id": "8d2c3ec0",
   "metadata": {},
   "outputs": [
    {
     "name": "stdout",
     "output_type": "stream",
     "text": [
      "Writing test5.txt\n"
     ]
    }
   ],
   "source": [
    "%%writefile test5.txt\n",
    "my name is ansh"
   ]
  },
  {
   "cell_type": "markdown",
   "id": "4e1eb615",
   "metadata": {},
   "source": [
    "**Basic OS commands**"
   ]
  },
  {
   "cell_type": "code",
   "execution_count": 8,
   "id": "4fafc75a",
   "metadata": {},
   "outputs": [],
   "source": [
    "import os"
   ]
  },
  {
   "cell_type": "code",
   "execution_count": 11,
   "id": "b70fad38",
   "metadata": {},
   "outputs": [
    {
     "data": {
      "text/plain": [
       "'C:\\\\Users\\\\ansha\\\\Projects\\\\Python Projects'"
      ]
     },
     "execution_count": 11,
     "metadata": {},
     "output_type": "execute_result"
    }
   ],
   "source": [
    "pwd()      # Present working directory"
   ]
  },
  {
   "cell_type": "code",
   "execution_count": 12,
   "id": "d7dc2f2a",
   "metadata": {},
   "outputs": [
    {
     "data": {
      "text/plain": [
       "'C:\\\\Users\\\\ansha\\\\Projects\\\\Python Projects'"
      ]
     },
     "execution_count": 12,
     "metadata": {},
     "output_type": "execute_result"
    }
   ],
   "source": [
    "os.getcwd()     # Current working directory"
   ]
  },
  {
   "cell_type": "code",
   "execution_count": 13,
   "id": "ba06caa7",
   "metadata": {},
   "outputs": [
    {
     "data": {
      "text/plain": [
       "['.ipynb_checkpoints',\n",
       " 'Complete Python Cheatsheet.ipynb',\n",
       " 'test.txt',\n",
       " 'test5.txt']"
      ]
     },
     "execution_count": 13,
     "metadata": {},
     "output_type": "execute_result"
    }
   ],
   "source": [
    "os.listdir()     # List of all files and folders"
   ]
  },
  {
   "cell_type": "code",
   "execution_count": 14,
   "id": "c8327f79",
   "metadata": {},
   "outputs": [
    {
     "data": {
      "text/plain": [
       "['.ipynb_checkpoints', 'Assignments', 'Challenges', 'Python Projects']"
      ]
     },
     "execution_count": 14,
     "metadata": {},
     "output_type": "execute_result"
    }
   ],
   "source": [
    "os.listdir(\"C:\\\\Users\\\\ansha\\\\Projects\")"
   ]
  },
  {
   "cell_type": "code",
   "execution_count": 15,
   "id": "0723ecf9",
   "metadata": {},
   "outputs": [],
   "source": [
    "os.chdir(\"C:\\\\Users\\\\ansha\\\\Projects\")    # Change directory"
   ]
  },
  {
   "cell_type": "code",
   "execution_count": 16,
   "id": "b3b49f6c",
   "metadata": {},
   "outputs": [],
   "source": [
    "os.mkdir(\"Ansh\")    # Make a folder/Directory"
   ]
  },
  {
   "cell_type": "code",
   "execution_count": 18,
   "id": "92a06da8",
   "metadata": {},
   "outputs": [
    {
     "name": "stdout",
     "output_type": "stream",
     "text": [
      "Already Present!\n"
     ]
    }
   ],
   "source": [
    "if not os.path.isdir(\"ansh\"):\n",
    "    os.mkdir(\"ansh\")\n",
    "else:\n",
    "    print(\"Already Present!\")"
   ]
  },
  {
   "cell_type": "code",
   "execution_count": 19,
   "id": "8997433d",
   "metadata": {},
   "outputs": [],
   "source": [
    "os.rename(\"ansh\", \"Can\")"
   ]
  },
  {
   "cell_type": "code",
   "execution_count": 20,
   "id": "4fccd15e",
   "metadata": {},
   "outputs": [
    {
     "data": {
      "text/plain": [
       "'C:\\\\Users\\\\ansha\\\\Projects\\\\test.txt'"
      ]
     },
     "execution_count": 20,
     "metadata": {},
     "output_type": "execute_result"
    }
   ],
   "source": [
    "import shutil\n",
    "\n",
    "shutil.move(\"C:\\\\Users\\\\ansha\\\\Projects\\\\Python Projects\\\\test.txt\", \"C:\\\\Users\\\\ansha\\\\Projects\")   # Moving a file from 1 directory to another"
   ]
  },
  {
   "cell_type": "markdown",
   "id": "13f41101",
   "metadata": {},
   "source": [
    "## Logging and Debugging"
   ]
  },
  {
   "cell_type": "markdown",
   "id": "543c7e52",
   "metadata": {},
   "source": [
    "**LOGGING**"
   ]
  },
  {
   "cell_type": "markdown",
   "id": "c9bfa1f3",
   "metadata": {},
   "source": [
    "Logging is a very useful tool in a programmer’s toolbox. It can help you develop a better understanding of the flow of a program and discover scenarios that you might not even have thought of while developing. Types of logs:"
   ]
  },
  {
   "cell_type": "markdown",
   "id": "c1dd22c0",
   "metadata": {},
   "source": [
    "1. DEBUG\n",
    "2. INFO\n",
    "3. WARNING\n",
    "4. ERROR\n",
    "5. CRITICAL"
   ]
  },
  {
   "cell_type": "code",
   "execution_count": 1,
   "id": "8e831c30",
   "metadata": {},
   "outputs": [],
   "source": [
    "import logging as lg\n",
    "import os"
   ]
  },
  {
   "cell_type": "code",
   "execution_count": null,
   "id": "d2dc0d45",
   "metadata": {},
   "outputs": [],
   "source": [
    "os.mkdir(\"logging\")"
   ]
  },
  {
   "cell_type": "code",
   "execution_count": 2,
   "id": "4aaae32b",
   "metadata": {},
   "outputs": [],
   "source": [
    "os.chdir(os.getcwd()+\"\\\\\"+\"logging\")"
   ]
  },
  {
   "cell_type": "code",
   "execution_count": 3,
   "id": "8e265909",
   "metadata": {},
   "outputs": [
    {
     "data": {
      "text/plain": [
       "'C:\\\\Users\\\\ansha\\\\Projects\\\\Python Projects\\\\logging'"
      ]
     },
     "execution_count": 3,
     "metadata": {},
     "output_type": "execute_result"
    }
   ],
   "source": [
    "pwd"
   ]
  },
  {
   "cell_type": "code",
   "execution_count": 7,
   "id": "c7831d18",
   "metadata": {},
   "outputs": [],
   "source": [
    "lg.basicConfig(filename = 'test.log', level = lg.INFO, format = '%(asctime)s %(message)s')"
   ]
  },
  {
   "cell_type": "code",
   "execution_count": 8,
   "id": "6cd44d69",
   "metadata": {},
   "outputs": [],
   "source": [
    "lg.info(\" I'm going to start my program\")"
   ]
  },
  {
   "cell_type": "code",
   "execution_count": 9,
   "id": "aaaef349",
   "metadata": {},
   "outputs": [],
   "source": [
    "lg.warning(\" First warning\")"
   ]
  },
  {
   "cell_type": "code",
   "execution_count": 10,
   "id": "8c8b87ba",
   "metadata": {},
   "outputs": [],
   "source": [
    "lg.error(\" Error message\")"
   ]
  },
  {
   "cell_type": "code",
   "execution_count": 11,
   "id": "e9fe1b25",
   "metadata": {},
   "outputs": [],
   "source": [
    "def test(a,b):\n",
    "    try:\n",
    "        div = a/b\n",
    "        return div\n",
    "    except Exception as e:\n",
    "        print(\"Check your log for errors\")\n",
    "        lg.error(\"error occured\")\n",
    "        lg.exception(str(e))"
   ]
  },
  {
   "cell_type": "code",
   "execution_count": 12,
   "id": "dabfb0f5",
   "metadata": {},
   "outputs": [
    {
     "name": "stdout",
     "output_type": "stream",
     "text": [
      "Check your log for errors\n"
     ]
    }
   ],
   "source": [
    "test(4,0)"
   ]
  },
  {
   "cell_type": "code",
   "execution_count": 13,
   "id": "42eccf80",
   "metadata": {},
   "outputs": [],
   "source": [
    "lg.shutdown()"
   ]
  },
  {
   "cell_type": "code",
   "execution_count": 3,
   "id": "88b7de3c",
   "metadata": {},
   "outputs": [
    {
     "name": "stderr",
     "output_type": "stream",
     "text": [
      "2022-06-04 05:36:33,541 - root - INFO - this is my first test\n",
      "2022-06-04 05:36:33,544 - logger1.area1 - INFO - info for logger 1\n",
      "2022-06-04 05:36:33,545 - logger2.area2 - INFO - info for logger 2\n"
     ]
    }
   ],
   "source": [
    "lg.basicConfig(filename = 'app1.log', level = lg.DEBUG, format = '%(asctime)s - %(name)s - %(levelname)s - %(message)s', filemode = 'w')\n",
    "\n",
    "console_log = lg.StreamHandler()\n",
    "console_log.setLevel(lg.INFO)\n",
    "format = lg.Formatter('%(asctime)s - %(name)s - %(levelname)s - %(message)s')\n",
    "console_log.setFormatter(format)\n",
    "lg.getLogger('').addHandler(console_log)\n",
    "lg.info(\"this is my first test\")\n",
    "\n",
    "logger1 = lg.getLogger('logger1.area1')\n",
    "logger2 = lg.getLogger('logger2.area2')\n",
    "logger3 = lg.getLogger('logger3.area3')\n",
    "\n",
    "logger1.info(\"info for logger 1\")\n",
    "logger2.debug(\"debug for logger 2\")\n",
    "logger2.info(\"info for logger 2\")"
   ]
  },
  {
   "cell_type": "markdown",
   "id": "499203ad",
   "metadata": {},
   "source": [
    "**DEBUGGING**"
   ]
  },
  {
   "cell_type": "code",
   "execution_count": 4,
   "id": "bafc32cc",
   "metadata": {},
   "outputs": [
    {
     "name": "stdout",
     "output_type": "stream",
     "text": [
      "Requirement already satisfied: ipdb in c:\\users\\ansha\\anaconda3\\lib\\site-packages (0.13.9)\n",
      "Requirement already satisfied: decorator in c:\\users\\ansha\\anaconda3\\lib\\site-packages (from ipdb) (5.1.1)\n",
      "Requirement already satisfied: toml>=0.10.2 in c:\\users\\ansha\\anaconda3\\lib\\site-packages (from ipdb) (0.10.2)\n",
      "Requirement already satisfied: setuptools in c:\\users\\ansha\\anaconda3\\lib\\site-packages (from ipdb) (61.2.0)\n",
      "Requirement already satisfied: ipython>=7.17.0 in c:\\users\\ansha\\anaconda3\\lib\\site-packages (from ipdb) (8.2.0)\n",
      "Requirement already satisfied: colorama in c:\\users\\ansha\\anaconda3\\lib\\site-packages (from ipython>=7.17.0->ipdb) (0.4.4)\n",
      "Requirement already satisfied: backcall in c:\\users\\ansha\\anaconda3\\lib\\site-packages (from ipython>=7.17.0->ipdb) (0.2.0)\n",
      "Requirement already satisfied: traitlets>=5 in c:\\users\\ansha\\anaconda3\\lib\\site-packages (from ipython>=7.17.0->ipdb) (5.1.1)\n",
      "Requirement already satisfied: prompt-toolkit!=3.0.0,!=3.0.1,<3.1.0,>=2.0.0 in c:\\users\\ansha\\anaconda3\\lib\\site-packages (from ipython>=7.17.0->ipdb) (3.0.20)\n",
      "Requirement already satisfied: pygments>=2.4.0 in c:\\users\\ansha\\anaconda3\\lib\\site-packages (from ipython>=7.17.0->ipdb) (2.11.2)\n",
      "Requirement already satisfied: jedi>=0.16 in c:\\users\\ansha\\anaconda3\\lib\\site-packages (from ipython>=7.17.0->ipdb) (0.18.1)\n",
      "Requirement already satisfied: pickleshare in c:\\users\\ansha\\anaconda3\\lib\\site-packages (from ipython>=7.17.0->ipdb) (0.7.5)\n",
      "Requirement already satisfied: matplotlib-inline in c:\\users\\ansha\\anaconda3\\lib\\site-packages (from ipython>=7.17.0->ipdb) (0.1.2)\n",
      "Requirement already satisfied: stack-data in c:\\users\\ansha\\anaconda3\\lib\\site-packages (from ipython>=7.17.0->ipdb) (0.2.0)\n",
      "Requirement already satisfied: parso<0.9.0,>=0.8.0 in c:\\users\\ansha\\anaconda3\\lib\\site-packages (from jedi>=0.16->ipython>=7.17.0->ipdb) (0.8.3)\n",
      "Requirement already satisfied: wcwidth in c:\\users\\ansha\\anaconda3\\lib\\site-packages (from prompt-toolkit!=3.0.0,!=3.0.1,<3.1.0,>=2.0.0->ipython>=7.17.0->ipdb) (0.2.5)\n",
      "Requirement already satisfied: asttokens in c:\\users\\ansha\\anaconda3\\lib\\site-packages (from stack-data->ipython>=7.17.0->ipdb) (2.0.5)\n",
      "Requirement already satisfied: pure-eval in c:\\users\\ansha\\anaconda3\\lib\\site-packages (from stack-data->ipython>=7.17.0->ipdb) (0.2.2)\n",
      "Requirement already satisfied: executing in c:\\users\\ansha\\anaconda3\\lib\\site-packages (from stack-data->ipython>=7.17.0->ipdb) (0.8.3)\n",
      "Requirement already satisfied: six in c:\\users\\ansha\\anaconda3\\lib\\site-packages (from asttokens->stack-data->ipython>=7.17.0->ipdb) (1.16.0)\n"
     ]
    }
   ],
   "source": [
    "!pip install --user ipdb"
   ]
  },
  {
   "cell_type": "code",
   "execution_count": 2,
   "id": "c9d7355d",
   "metadata": {},
   "outputs": [
    {
     "name": "stdout",
     "output_type": "stream",
     "text": [
      "Collecting package metadata (current_repodata.json): ...working... done\n",
      "Solving environment: ...working... failed with initial frozen solve. Retrying with flexible solve.\n",
      "Collecting package metadata (repodata.json): ...working... done\n",
      "Solving environment: ...working... failed with initial frozen solve. Retrying with flexible solve.\n"
     ]
    },
    {
     "name": "stderr",
     "output_type": "stream",
     "text": [
      "\n",
      "PackagesNotFoundError: The following packages are not available from current channels:\n",
      "\n",
      "  - ipdp\n",
      "\n",
      "Current channels:\n",
      "\n",
      "  - https://repo.anaconda.com/pkgs/main/win-64\n",
      "  - https://repo.anaconda.com/pkgs/main/noarch\n",
      "  - https://repo.anaconda.com/pkgs/r/win-64\n",
      "  - https://repo.anaconda.com/pkgs/r/noarch\n",
      "  - https://repo.anaconda.com/pkgs/msys2/win-64\n",
      "  - https://repo.anaconda.com/pkgs/msys2/noarch\n",
      "\n",
      "To search for alternate channels that may provide the conda package you're\n",
      "looking for, navigate to\n",
      "\n",
      "    https://anaconda.org\n",
      "\n",
      "and use the search bar at the top of the page.\n",
      "\n",
      "\n"
     ]
    }
   ],
   "source": [
    "!conda install ipdb"
   ]
  },
  {
   "cell_type": "code",
   "execution_count": 4,
   "id": "53f52f77",
   "metadata": {},
   "outputs": [],
   "source": [
    "import ipdb"
   ]
  },
  {
   "cell_type": "code",
   "execution_count": 5,
   "id": "953902ec",
   "metadata": {},
   "outputs": [],
   "source": [
    "def testdebug():\n",
    "    ipdb.set_trace()\n",
    "    l = []\n",
    "    for i in range(10):\n",
    "        l.append(i)\n",
    "        print(\"we have appended your data in list\")\n",
    "    return l"
   ]
  },
  {
   "cell_type": "code",
   "execution_count": 6,
   "id": "0aa0bd7a",
   "metadata": {},
   "outputs": [
    {
     "name": "stdout",
     "output_type": "stream",
     "text": [
      "> \u001b[1;32mc:\\users\\ansha\\appdata\\local\\temp\\ipykernel_9028\\3151905147.py\u001b[0m(3)\u001b[0;36mtestdebug\u001b[1;34m()\u001b[0m\n",
      "\n",
      "ipdb> h\n",
      "\n",
      "Documented commands (type help <topic>):\n",
      "========================================\n",
      "EOF    commands   enable    ll        pp       s                until \n",
      "a      condition  exit      longlist  psource  skip_hidden      up    \n",
      "alias  cont       h         n         q        skip_predicates  w     \n",
      "args   context    help      next      quit     source           whatis\n",
      "b      continue   ignore    p         r        step             where \n",
      "break  d          interact  pdef      restart  tbreak         \n",
      "bt     debug      j         pdoc      return   u              \n",
      "c      disable    jump      pfile     retval   unalias        \n",
      "cl     display    l         pinfo     run      undisplay      \n",
      "clear  down       list      pinfo2    rv       unt            \n",
      "\n",
      "Miscellaneous help topics:\n",
      "==========================\n",
      "exec  pdb\n",
      "\n",
      "ipdb> n\n",
      "> \u001b[1;32mc:\\users\\ansha\\appdata\\local\\temp\\ipykernel_9028\\3151905147.py\u001b[0m(4)\u001b[0;36mtestdebug\u001b[1;34m()\u001b[0m\n",
      "\n",
      "ipdb> n\n",
      "> \u001b[1;32mc:\\users\\ansha\\appdata\\local\\temp\\ipykernel_9028\\3151905147.py\u001b[0m(5)\u001b[0;36mtestdebug\u001b[1;34m()\u001b[0m\n",
      "\n",
      "ipdb> n\n",
      "> \u001b[1;32mc:\\users\\ansha\\appdata\\local\\temp\\ipykernel_9028\\3151905147.py\u001b[0m(6)\u001b[0;36mtestdebug\u001b[1;34m()\u001b[0m\n",
      "\n",
      "ipdb> n\n",
      "we have appended your data in list\n",
      "> \u001b[1;32mc:\\users\\ansha\\appdata\\local\\temp\\ipykernel_9028\\3151905147.py\u001b[0m(4)\u001b[0;36mtestdebug\u001b[1;34m()\u001b[0m\n",
      "\n",
      "ipdb> n\n",
      "> \u001b[1;32mc:\\users\\ansha\\appdata\\local\\temp\\ipykernel_9028\\3151905147.py\u001b[0m(5)\u001b[0;36mtestdebug\u001b[1;34m()\u001b[0m\n",
      "\n",
      "ipdb> n\n",
      "> \u001b[1;32mc:\\users\\ansha\\appdata\\local\\temp\\ipykernel_9028\\3151905147.py\u001b[0m(6)\u001b[0;36mtestdebug\u001b[1;34m()\u001b[0m\n",
      "\n",
      "ipdb> n\n",
      "we have appended your data in list\n",
      "> \u001b[1;32mc:\\users\\ansha\\appdata\\local\\temp\\ipykernel_9028\\3151905147.py\u001b[0m(4)\u001b[0;36mtestdebug\u001b[1;34m()\u001b[0m\n",
      "\n",
      "ipdb> n\n",
      "> \u001b[1;32mc:\\users\\ansha\\appdata\\local\\temp\\ipykernel_9028\\3151905147.py\u001b[0m(5)\u001b[0;36mtestdebug\u001b[1;34m()\u001b[0m\n",
      "\n",
      "ipdb> i\n",
      "2\n",
      "ipdb> exit\n"
     ]
    },
    {
     "ename": "BdbQuit",
     "evalue": "",
     "output_type": "error",
     "traceback": [
      "\u001b[1;31m---------------------------------------------------------------------------\u001b[0m",
      "\u001b[1;31mBdbQuit\u001b[0m                                   Traceback (most recent call last)",
      "Input \u001b[1;32mIn [6]\u001b[0m, in \u001b[0;36m<cell line: 1>\u001b[1;34m()\u001b[0m\n\u001b[1;32m----> 1\u001b[0m \u001b[43mtestdebug\u001b[49m\u001b[43m(\u001b[49m\u001b[43m)\u001b[49m\n",
      "Input \u001b[1;32mIn [5]\u001b[0m, in \u001b[0;36mtestdebug\u001b[1;34m()\u001b[0m\n\u001b[0;32m      3\u001b[0m l \u001b[38;5;241m=\u001b[39m []\n\u001b[0;32m      4\u001b[0m \u001b[38;5;28;01mfor\u001b[39;00m i \u001b[38;5;129;01min\u001b[39;00m \u001b[38;5;28mrange\u001b[39m(\u001b[38;5;241m10\u001b[39m):\n\u001b[1;32m----> 5\u001b[0m     \u001b[43ml\u001b[49m\u001b[38;5;241m.\u001b[39mappend(i)\n\u001b[0;32m      6\u001b[0m     \u001b[38;5;28mprint\u001b[39m(\u001b[38;5;124m\"\u001b[39m\u001b[38;5;124mwe have appended your data in list\u001b[39m\u001b[38;5;124m\"\u001b[39m)\n\u001b[0;32m      7\u001b[0m \u001b[38;5;28;01mreturn\u001b[39;00m l\n",
      "Input \u001b[1;32mIn [5]\u001b[0m, in \u001b[0;36mtestdebug\u001b[1;34m()\u001b[0m\n\u001b[0;32m      3\u001b[0m l \u001b[38;5;241m=\u001b[39m []\n\u001b[0;32m      4\u001b[0m \u001b[38;5;28;01mfor\u001b[39;00m i \u001b[38;5;129;01min\u001b[39;00m \u001b[38;5;28mrange\u001b[39m(\u001b[38;5;241m10\u001b[39m):\n\u001b[1;32m----> 5\u001b[0m     \u001b[43ml\u001b[49m\u001b[38;5;241m.\u001b[39mappend(i)\n\u001b[0;32m      6\u001b[0m     \u001b[38;5;28mprint\u001b[39m(\u001b[38;5;124m\"\u001b[39m\u001b[38;5;124mwe have appended your data in list\u001b[39m\u001b[38;5;124m\"\u001b[39m)\n\u001b[0;32m      7\u001b[0m \u001b[38;5;28;01mreturn\u001b[39;00m l\n",
      "File \u001b[1;32m~\\anaconda3\\lib\\bdb.py:88\u001b[0m, in \u001b[0;36mBdb.trace_dispatch\u001b[1;34m(self, frame, event, arg)\u001b[0m\n\u001b[0;32m     86\u001b[0m     \u001b[38;5;28;01mreturn\u001b[39;00m \u001b[38;5;66;03m# None\u001b[39;00m\n\u001b[0;32m     87\u001b[0m \u001b[38;5;28;01mif\u001b[39;00m event \u001b[38;5;241m==\u001b[39m \u001b[38;5;124m'\u001b[39m\u001b[38;5;124mline\u001b[39m\u001b[38;5;124m'\u001b[39m:\n\u001b[1;32m---> 88\u001b[0m     \u001b[38;5;28;01mreturn\u001b[39;00m \u001b[38;5;28;43mself\u001b[39;49m\u001b[38;5;241;43m.\u001b[39;49m\u001b[43mdispatch_line\u001b[49m\u001b[43m(\u001b[49m\u001b[43mframe\u001b[49m\u001b[43m)\u001b[49m\n\u001b[0;32m     89\u001b[0m \u001b[38;5;28;01mif\u001b[39;00m event \u001b[38;5;241m==\u001b[39m \u001b[38;5;124m'\u001b[39m\u001b[38;5;124mcall\u001b[39m\u001b[38;5;124m'\u001b[39m:\n\u001b[0;32m     90\u001b[0m     \u001b[38;5;28;01mreturn\u001b[39;00m \u001b[38;5;28mself\u001b[39m\u001b[38;5;241m.\u001b[39mdispatch_call(frame, arg)\n",
      "File \u001b[1;32m~\\anaconda3\\lib\\bdb.py:113\u001b[0m, in \u001b[0;36mBdb.dispatch_line\u001b[1;34m(self, frame)\u001b[0m\n\u001b[0;32m    111\u001b[0m \u001b[38;5;28;01mif\u001b[39;00m \u001b[38;5;28mself\u001b[39m\u001b[38;5;241m.\u001b[39mstop_here(frame) \u001b[38;5;129;01mor\u001b[39;00m \u001b[38;5;28mself\u001b[39m\u001b[38;5;241m.\u001b[39mbreak_here(frame):\n\u001b[0;32m    112\u001b[0m     \u001b[38;5;28mself\u001b[39m\u001b[38;5;241m.\u001b[39muser_line(frame)\n\u001b[1;32m--> 113\u001b[0m     \u001b[38;5;28;01mif\u001b[39;00m \u001b[38;5;28mself\u001b[39m\u001b[38;5;241m.\u001b[39mquitting: \u001b[38;5;28;01mraise\u001b[39;00m BdbQuit\n\u001b[0;32m    114\u001b[0m \u001b[38;5;28;01mreturn\u001b[39;00m \u001b[38;5;28mself\u001b[39m\u001b[38;5;241m.\u001b[39mtrace_dispatch\n",
      "\u001b[1;31mBdbQuit\u001b[0m: "
     ]
    }
   ],
   "source": [
    "testdebug()"
   ]
  },
  {
   "cell_type": "markdown",
   "id": "3fef8942",
   "metadata": {},
   "source": [
    "## Modules and Exceptions\n"
   ]
  },
  {
   "cell_type": "markdown",
   "id": "768b4ed4",
   "metadata": {},
   "source": [
    "**Dealing with Modules**"
   ]
  },
  {
   "cell_type": "code",
   "execution_count": 19,
   "id": "05e13572",
   "metadata": {},
   "outputs": [],
   "source": [
    "import math\n",
    "import imp"
   ]
  },
  {
   "cell_type": "code",
   "execution_count": 8,
   "id": "90c12881",
   "metadata": {},
   "outputs": [
    {
     "data": {
      "text/plain": [
       "10.0"
      ]
     },
     "execution_count": 8,
     "metadata": {},
     "output_type": "execute_result"
    }
   ],
   "source": [
    "math.sqrt(100)"
   ]
  },
  {
   "cell_type": "code",
   "execution_count": 11,
   "id": "0203fcee",
   "metadata": {},
   "outputs": [],
   "source": [
    "from math import sqrt, pi"
   ]
  },
  {
   "cell_type": "code",
   "execution_count": 10,
   "id": "9956c003",
   "metadata": {},
   "outputs": [
    {
     "data": {
      "text/plain": [
       "10.0"
      ]
     },
     "execution_count": 10,
     "metadata": {},
     "output_type": "execute_result"
    }
   ],
   "source": [
    "sqrt(100)"
   ]
  },
  {
   "cell_type": "code",
   "execution_count": 12,
   "id": "98034d21",
   "metadata": {},
   "outputs": [
    {
     "data": {
      "text/plain": [
       "3.141592653589793"
      ]
     },
     "execution_count": 12,
     "metadata": {},
     "output_type": "execute_result"
    }
   ],
   "source": [
    "pi"
   ]
  },
  {
   "cell_type": "code",
   "execution_count": 13,
   "id": "a6341253",
   "metadata": {},
   "outputs": [
    {
     "data": {
      "text/plain": [
       "'C:\\\\Users\\\\ansha\\\\Projects\\\\Python Projects'"
      ]
     },
     "execution_count": 13,
     "metadata": {},
     "output_type": "execute_result"
    }
   ],
   "source": [
    "pwd()"
   ]
  },
  {
   "cell_type": "code",
   "execution_count": 14,
   "id": "b11c9e65",
   "metadata": {},
   "outputs": [
    {
     "name": "stdout",
     "output_type": "stream",
     "text": [
      " This is my first module\n"
     ]
    }
   ],
   "source": [
    "import test4"
   ]
  },
  {
   "cell_type": "code",
   "execution_count": 15,
   "id": "564bf6d0",
   "metadata": {},
   "outputs": [],
   "source": [
    "import test4"
   ]
  },
  {
   "cell_type": "code",
   "execution_count": 17,
   "id": "6b737ca2",
   "metadata": {},
   "outputs": [],
   "source": [
    "import test4"
   ]
  },
  {
   "cell_type": "code",
   "execution_count": 20,
   "id": "d74f92b9",
   "metadata": {},
   "outputs": [
    {
     "name": "stdout",
     "output_type": "stream",
     "text": [
      " This is my first module\n"
     ]
    },
    {
     "data": {
      "text/plain": [
       "<module 'test4' from 'C:\\\\Users\\\\ansha\\\\Projects\\\\Python Projects\\\\test4.py'>"
      ]
     },
     "execution_count": 20,
     "metadata": {},
     "output_type": "execute_result"
    }
   ],
   "source": [
    "imp.reload(test4)"
   ]
  },
  {
   "cell_type": "code",
   "execution_count": 21,
   "id": "c5875c32",
   "metadata": {},
   "outputs": [],
   "source": [
    "import test5"
   ]
  },
  {
   "cell_type": "code",
   "execution_count": 22,
   "id": "119ac319",
   "metadata": {},
   "outputs": [
    {
     "data": {
      "text/plain": [
       "7"
      ]
     },
     "execution_count": 22,
     "metadata": {},
     "output_type": "execute_result"
    }
   ],
   "source": [
    "test5.add(3,4)"
   ]
  },
  {
   "cell_type": "code",
   "execution_count": 23,
   "id": "34179e24",
   "metadata": {},
   "outputs": [
    {
     "data": {
      "text/plain": [
       "12"
      ]
     },
     "execution_count": 23,
     "metadata": {},
     "output_type": "execute_result"
    }
   ],
   "source": [
    "test5.mult(3,4)"
   ]
  },
  {
   "cell_type": "code",
   "execution_count": 24,
   "id": "9e03b79c",
   "metadata": {},
   "outputs": [
    {
     "data": {
      "text/plain": [
       "81"
      ]
     },
     "execution_count": 24,
     "metadata": {},
     "output_type": "execute_result"
    }
   ],
   "source": [
    "test5.power(3,4)"
   ]
  },
  {
   "cell_type": "code",
   "execution_count": 30,
   "id": "ca694ca6",
   "metadata": {},
   "outputs": [],
   "source": [
    "from test6 import msg"
   ]
  },
  {
   "cell_type": "code",
   "execution_count": 31,
   "id": "5b24db1d",
   "metadata": {},
   "outputs": [
    {
     "data": {
      "text/plain": [
       "\"This is ansh's class\""
      ]
     },
     "execution_count": 31,
     "metadata": {},
     "output_type": "execute_result"
    }
   ],
   "source": [
    "msg()"
   ]
  },
  {
   "cell_type": "markdown",
   "id": "7f2a0ec2",
   "metadata": {},
   "source": [
    "**Exception Handling**"
   ]
  },
  {
   "cell_type": "code",
   "execution_count": 36,
   "id": "25cebf60",
   "metadata": {},
   "outputs": [
    {
     "ename": "SyntaxError",
     "evalue": "invalid syntax (677736299.py, line 1)",
     "output_type": "error",
     "traceback": [
      "\u001b[1;36m  Input \u001b[1;32mIn [36]\u001b[1;36m\u001b[0m\n\u001b[1;33m    print(\"ssdad\"sad)     # Compile time error\u001b[0m\n\u001b[1;37m                 ^\u001b[0m\n\u001b[1;31mSyntaxError\u001b[0m\u001b[1;31m:\u001b[0m invalid syntax\n"
     ]
    }
   ],
   "source": [
    "print(\"ssdad\"sad)     # Compile time error"
   ]
  },
  {
   "cell_type": "code",
   "execution_count": 34,
   "id": "29754ab0",
   "metadata": {},
   "outputs": [
    {
     "ename": "ZeroDivisionError",
     "evalue": "division by zero",
     "output_type": "error",
     "traceback": [
      "\u001b[1;31m---------------------------------------------------------------------------\u001b[0m",
      "\u001b[1;31mZeroDivisionError\u001b[0m                         Traceback (most recent call last)",
      "Input \u001b[1;32mIn [34]\u001b[0m, in \u001b[0;36m<cell line: 1>\u001b[1;34m()\u001b[0m\n\u001b[1;32m----> 1\u001b[0m \u001b[38;5;241;43m5\u001b[39;49m\u001b[38;5;241;43m/\u001b[39;49m\u001b[38;5;241;43m0\u001b[39;49m\n",
      "\u001b[1;31mZeroDivisionError\u001b[0m: division by zero"
     ]
    }
   ],
   "source": [
    "5/0              # run time error"
   ]
  },
  {
   "cell_type": "code",
   "execution_count": 37,
   "id": "76cc4f77",
   "metadata": {},
   "outputs": [],
   "source": [
    "try:\n",
    "    a = open(\"testasd.txt\",\"r\")\n",
    "except:\n",
    "    pass"
   ]
  },
  {
   "cell_type": "code",
   "execution_count": 38,
   "id": "84f22ef1",
   "metadata": {},
   "outputs": [
    {
     "name": "stdout",
     "output_type": "stream",
     "text": [
      "ERROR!\n"
     ]
    }
   ],
   "source": [
    "try:\n",
    "    a = open(\"testasd.txt\",\"r\")\n",
    "except IOError:\n",
    "    print(\"ERROR!\")"
   ]
  },
  {
   "cell_type": "code",
   "execution_count": 39,
   "id": "99387218",
   "metadata": {},
   "outputs": [
    {
     "ename": "ZeroDivisionError",
     "evalue": "division by zero",
     "output_type": "error",
     "traceback": [
      "\u001b[1;31m---------------------------------------------------------------------------\u001b[0m",
      "\u001b[1;31mZeroDivisionError\u001b[0m                         Traceback (most recent call last)",
      "Input \u001b[1;32mIn [39]\u001b[0m, in \u001b[0;36m<cell line: 1>\u001b[1;34m()\u001b[0m\n\u001b[0;32m      1\u001b[0m \u001b[38;5;28;01mtry\u001b[39;00m:\n\u001b[1;32m----> 2\u001b[0m     a \u001b[38;5;241m=\u001b[39m \u001b[38;5;241;43m4\u001b[39;49m\u001b[38;5;241;43m/\u001b[39;49m\u001b[38;5;241;43m0\u001b[39;49m\n\u001b[0;32m      3\u001b[0m \u001b[38;5;28;01mexcept\u001b[39;00m \u001b[38;5;167;01mIOError\u001b[39;00m:\n\u001b[0;32m      4\u001b[0m     \u001b[38;5;28mprint\u001b[39m(\u001b[38;5;124m\"\u001b[39m\u001b[38;5;124mERROR!\u001b[39m\u001b[38;5;124m\"\u001b[39m)\n",
      "\u001b[1;31mZeroDivisionError\u001b[0m: division by zero"
     ]
    }
   ],
   "source": [
    "try:\n",
    "    a = 4/0\n",
    "except IOError:\n",
    "    print(\"ERROR!\")"
   ]
  },
  {
   "cell_type": "code",
   "execution_count": 42,
   "id": "c12b055c",
   "metadata": {},
   "outputs": [
    {
     "name": "stdout",
     "output_type": "stream",
     "text": [
      "ERROR! division by zero\n"
     ]
    }
   ],
   "source": [
    "try:\n",
    "    a = 4/0\n",
    "except ArithmeticError as e:\n",
    "    print(\"ERROR!\",e)\n",
    "else:\n",
    "    print(\"Executed once!\")"
   ]
  },
  {
   "cell_type": "code",
   "execution_count": 43,
   "id": "5ac6df7b",
   "metadata": {},
   "outputs": [
    {
     "name": "stdout",
     "output_type": "stream",
     "text": [
      "Executed once!\n"
     ]
    }
   ],
   "source": [
    "try:\n",
    "    a = 4/1\n",
    "except ArithmeticError as e:\n",
    "    print(\"ERROR!\",e)\n",
    "else:\n",
    "    print(\"Executed once!\")"
   ]
  },
  {
   "cell_type": "code",
   "execution_count": 44,
   "id": "83a22892",
   "metadata": {},
   "outputs": [
    {
     "name": "stdout",
     "output_type": "stream",
     "text": [
      "ERROR!\n",
      "Print this in any case!\n"
     ]
    }
   ],
   "source": [
    "try:\n",
    "    a = open(\"testasd.txt\",\"r\")\n",
    "except IOError:\n",
    "    print(\"ERROR!\")\n",
    "finally:\n",
    "    print(\"Print this in any case!\")"
   ]
  },
  {
   "cell_type": "code",
   "execution_count": 3,
   "id": "1d32cce9",
   "metadata": {},
   "outputs": [
    {
     "name": "stdout",
     "output_type": "stream",
     "text": [
      "Enter an integer: 21\n",
      "You entered a correct value\n",
      "End this issue\n",
      "Enter an integer: ewqr\n",
      "This is my error message invalid literal for int() with base 10: 'ewqr'\n",
      "End this issue\n"
     ]
    }
   ],
   "source": [
    "while True:\n",
    "    try:\n",
    "        a = int(input(\"Enter an integer: \"))\n",
    "    except Exception as e:\n",
    "        print(\"This is my error message\", e)\n",
    "        break\n",
    "    else:\n",
    "        print(\"You entered a correct value\")\n",
    "    finally:\n",
    "        print(\"End this issue\")"
   ]
  },
  {
   "cell_type": "code",
   "execution_count": 7,
   "id": "08d2c307",
   "metadata": {},
   "outputs": [],
   "source": [
    "def askforint():\n",
    "    while True:\n",
    "        try:\n",
    "            a = int(input(\"Enter an integer: \"))\n",
    "            c=5/a\n",
    "        except FileNotFoundError as e:\n",
    "            print(e)\n",
    "            break\n",
    "        except IOError as e:\n",
    "            print(e)\n",
    "            break\n",
    "        except ValueError as e:\n",
    "            print(e)\n",
    "            break\n",
    "        except ArithmeticError as e:\n",
    "            print(e)\n",
    "            break\n",
    "        except ValueError as e:\n",
    "            print(e)\n",
    "            break\n",
    "        except ZeroDivisionError as e:\n",
    "            print(e)\n",
    "            break\n",
    "        else:\n",
    "            print(\"You entered a correct value\")\n",
    "        finally:\n",
    "            print(\"End this issue\")"
   ]
  },
  {
   "cell_type": "code",
   "execution_count": 8,
   "id": "45658ef3",
   "metadata": {},
   "outputs": [
    {
     "name": "stdout",
     "output_type": "stream",
     "text": [
      "Enter an integer: askjf\n",
      "invalid literal for int() with base 10: 'askjf'\n",
      "End this issue\n"
     ]
    }
   ],
   "source": [
    "askforint()"
   ]
  },
  {
   "cell_type": "code",
   "execution_count": 16,
   "id": "a3494ca8",
   "metadata": {},
   "outputs": [],
   "source": [
    "def create_your_exception(a):\n",
    "    if a ==0:\n",
    "        raise Exception(a)\n",
    "    else:\n",
    "        print(\"input is ok\")"
   ]
  },
  {
   "cell_type": "code",
   "execution_count": 18,
   "id": "6cc89468",
   "metadata": {},
   "outputs": [
    {
     "name": "stdout",
     "output_type": "stream",
     "text": [
      "0\n"
     ]
    }
   ],
   "source": [
    "try:\n",
    "    create_your_exception(0)\n",
    "except Exception as e:\n",
    "    print(e)"
   ]
  }
 ],
 "metadata": {
  "kernelspec": {
   "display_name": "Python 3 (ipykernel)",
   "language": "python",
   "name": "python3"
  },
  "language_info": {
   "codemirror_mode": {
    "name": "ipython",
    "version": 3
   },
   "file_extension": ".py",
   "mimetype": "text/x-python",
   "name": "python",
   "nbconvert_exporter": "python",
   "pygments_lexer": "ipython3",
   "version": "3.9.12"
  }
 },
 "nbformat": 4,
 "nbformat_minor": 5
}
